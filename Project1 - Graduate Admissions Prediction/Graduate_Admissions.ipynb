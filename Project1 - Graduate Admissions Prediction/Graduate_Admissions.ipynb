{
  "nbformat": 4,
  "nbformat_minor": 0,
  "metadata": {
    "colab": {
      "name": "Graduate Admissions",
      "provenance": [],
      "toc_visible": true
    },
    "kernelspec": {
      "name": "python3",
      "display_name": "Python 3"
    }
  },
  "cells": [
    {
      "cell_type": "markdown",
      "metadata": {
        "id": "5riNri7xstUP",
        "colab_type": "text"
      },
      "source": [
        "# 100MLProjects - Project #1: Graduate Admissions Predicition\n",
        "\n",
        "Dataset Source: https://www.kaggle.com/mohansacharya/graduate-admissions \n",
        "\n",
        "Date: June 12, 2020\n",
        "\n",
        "### Lakshmanan Meiyappan\n",
        "LinkedIn: https://www.linkedin.com/in/lakshmanan-meiyappan/\n",
        "\n",
        "Github: https://github.com/laxmena/\n"
      ]
    },
    {
      "cell_type": "code",
      "metadata": {
        "id": "Dkj1mUyhqaTF",
        "colab_type": "code",
        "colab": {}
      },
      "source": [
        "import pandas as pd\n",
        "import numpy as np\n",
        "import matplotlib.pyplot as plt"
      ],
      "execution_count": 0,
      "outputs": []
    },
    {
      "cell_type": "code",
      "metadata": {
        "id": "ZC7YqgKLtRqf",
        "colab_type": "code",
        "outputId": "fa6a28bc-1562-4344-8df1-d82aac56a981",
        "colab": {
          "base_uri": "https://localhost:8080/",
          "height": 195
        }
      },
      "source": [
        "dataset = pd.read_csv('/content/drive/My Drive/Dataset/GraduateAdmissions/Admission_Predict.csv')\n",
        "dataset.head()"
      ],
      "execution_count": 102,
      "outputs": [
        {
          "output_type": "execute_result",
          "data": {
            "text/html": [
              "<div>\n",
              "<style scoped>\n",
              "    .dataframe tbody tr th:only-of-type {\n",
              "        vertical-align: middle;\n",
              "    }\n",
              "\n",
              "    .dataframe tbody tr th {\n",
              "        vertical-align: top;\n",
              "    }\n",
              "\n",
              "    .dataframe thead th {\n",
              "        text-align: right;\n",
              "    }\n",
              "</style>\n",
              "<table border=\"1\" class=\"dataframe\">\n",
              "  <thead>\n",
              "    <tr style=\"text-align: right;\">\n",
              "      <th></th>\n",
              "      <th>Serial No.</th>\n",
              "      <th>GRE Score</th>\n",
              "      <th>TOEFL Score</th>\n",
              "      <th>University Rating</th>\n",
              "      <th>SOP</th>\n",
              "      <th>LOR</th>\n",
              "      <th>CGPA</th>\n",
              "      <th>Research</th>\n",
              "      <th>Chance of Admit</th>\n",
              "    </tr>\n",
              "  </thead>\n",
              "  <tbody>\n",
              "    <tr>\n",
              "      <th>0</th>\n",
              "      <td>1</td>\n",
              "      <td>337</td>\n",
              "      <td>118</td>\n",
              "      <td>4</td>\n",
              "      <td>4.5</td>\n",
              "      <td>4.5</td>\n",
              "      <td>9.65</td>\n",
              "      <td>1</td>\n",
              "      <td>0.92</td>\n",
              "    </tr>\n",
              "    <tr>\n",
              "      <th>1</th>\n",
              "      <td>2</td>\n",
              "      <td>324</td>\n",
              "      <td>107</td>\n",
              "      <td>4</td>\n",
              "      <td>4.0</td>\n",
              "      <td>4.5</td>\n",
              "      <td>8.87</td>\n",
              "      <td>1</td>\n",
              "      <td>0.76</td>\n",
              "    </tr>\n",
              "    <tr>\n",
              "      <th>2</th>\n",
              "      <td>3</td>\n",
              "      <td>316</td>\n",
              "      <td>104</td>\n",
              "      <td>3</td>\n",
              "      <td>3.0</td>\n",
              "      <td>3.5</td>\n",
              "      <td>8.00</td>\n",
              "      <td>1</td>\n",
              "      <td>0.72</td>\n",
              "    </tr>\n",
              "    <tr>\n",
              "      <th>3</th>\n",
              "      <td>4</td>\n",
              "      <td>322</td>\n",
              "      <td>110</td>\n",
              "      <td>3</td>\n",
              "      <td>3.5</td>\n",
              "      <td>2.5</td>\n",
              "      <td>8.67</td>\n",
              "      <td>1</td>\n",
              "      <td>0.80</td>\n",
              "    </tr>\n",
              "    <tr>\n",
              "      <th>4</th>\n",
              "      <td>5</td>\n",
              "      <td>314</td>\n",
              "      <td>103</td>\n",
              "      <td>2</td>\n",
              "      <td>2.0</td>\n",
              "      <td>3.0</td>\n",
              "      <td>8.21</td>\n",
              "      <td>0</td>\n",
              "      <td>0.65</td>\n",
              "    </tr>\n",
              "  </tbody>\n",
              "</table>\n",
              "</div>"
            ],
            "text/plain": [
              "   Serial No.  GRE Score  TOEFL Score  ...  CGPA  Research  Chance of Admit \n",
              "0           1        337          118  ...  9.65         1              0.92\n",
              "1           2        324          107  ...  8.87         1              0.76\n",
              "2           3        316          104  ...  8.00         1              0.72\n",
              "3           4        322          110  ...  8.67         1              0.80\n",
              "4           5        314          103  ...  8.21         0              0.65\n",
              "\n",
              "[5 rows x 9 columns]"
            ]
          },
          "metadata": {
            "tags": []
          },
          "execution_count": 102
        }
      ]
    },
    {
      "cell_type": "markdown",
      "metadata": {
        "id": "m_8hJPrMvsW3",
        "colab_type": "text"
      },
      "source": [
        "## Exploring Dataset"
      ]
    },
    {
      "cell_type": "markdown",
      "metadata": {
        "id": "qpQAzOKktuZH",
        "colab_type": "text"
      },
      "source": [
        "\n",
        "There are 7 independent variables and 1 dependent variable.\n",
        "\n",
        "GRE Score, TOEFL Score, University Rating, SOP, LOR, CGPA and Research are all non correlated to each other. \n",
        "\n",
        "My assumption now is Each single factor mentioned play a significant role towards the 'chance of admit'.\n",
        "\n",
        "'Chance of Admit' is the probability of getting an admission for the given college for masters program."
      ]
    },
    {
      "cell_type": "markdown",
      "metadata": {
        "id": "55hl4S9Nw7qP",
        "colab_type": "text"
      },
      "source": [
        "### GRE Score"
      ]
    },
    {
      "cell_type": "code",
      "metadata": {
        "id": "3K42mnCBtejF",
        "colab_type": "code",
        "outputId": "3e2b436b-20b6-45df-a89a-333519348384",
        "colab": {
          "base_uri": "https://localhost:8080/",
          "height": 281
        }
      },
      "source": [
        "plt.hist(dataset.iloc[:,1].values, bins=20)\n",
        "plt.title('GRE Scores Distribution')\n",
        "plt.show()"
      ],
      "execution_count": 103,
      "outputs": [
        {
          "output_type": "display_data",
          "data": {
            "image/png": "[encoded data removed]",
            "text/plain": [
              "<Figure size 432x288 with 1 Axes>"
            ]
          },
          "metadata": {
            "tags": [],
            "needs_background": "light"
          }
        }
      ]
    },
    {
      "cell_type": "code",
      "metadata": {
        "id": "hpFvBpsptr-1",
        "colab_type": "code",
        "outputId": "ae9d9ec8-e515-432b-b436-210833384e18",
        "colab": {
          "base_uri": "https://localhost:8080/",
          "height": 282
        }
      },
      "source": [
        "import seaborn as sns\n",
        "\n",
        "sns.distplot(dataset.iloc[:,1].values)"
      ],
      "execution_count": 104,
      "outputs": [
        {
          "output_type": "execute_result",
          "data": {
            "text/plain": [
              "<matplotlib.axes._subplots.AxesSubplot at 0x7f6c63774e48>"
            ]
          },
          "metadata": {
            "tags": []
          },
          "execution_count": 104
        },
        {
          "output_type": "display_data",
          "data": {
            "image/png": "[encoded data removed]",
            "text/plain": [
              "<Figure size 432x288 with 1 Axes>"
            ]
          },
          "metadata": {
            "tags": [],
            "needs_background": "light"
          }
        }
      ]
    },
    {
      "cell_type": "code",
      "metadata": {
        "id": "qMevAF4ypoDC",
        "colab_type": "code",
        "outputId": "e65496b8-6d08-4366-89eb-ee52703f8258",
        "colab": {
          "base_uri": "https://localhost:8080/",
          "height": 70
        }
      },
      "source": [
        "# GRE Scores\n",
        "gre_median = np.median(dataset.iloc[:,1].values)\n",
        "gre_mean = np.mean(dataset.iloc[:,1].values)\n",
        "\n",
        "print(\"GRE Scores Summary\")\n",
        "print(\"GRE Median: \", gre_median)\n",
        "print(\"GRE Mean: \", gre_mean)"
      ],
      "execution_count": 105,
      "outputs": [
        {
          "output_type": "stream",
          "text": [
            "GRE Scores Summary\n",
            "GRE Median:  317.0\n",
            "GRE Mean:  316.8075\n"
          ],
          "name": "stdout"
        }
      ]
    },
    {
      "cell_type": "markdown",
      "metadata": {
        "id": "L3PfHcIck40z",
        "colab_type": "text"
      },
      "source": [
        "### TOEFL Score Distribution\n"
      ]
    },
    {
      "cell_type": "code",
      "metadata": {
        "id": "vFBqrDChwpA9",
        "colab_type": "code",
        "outputId": "56c4bbd0-9caa-4aec-8b78-c359ed1c655b",
        "colab": {
          "base_uri": "https://localhost:8080/",
          "height": 281
        }
      },
      "source": [
        "plt.hist(dataset.iloc[:,2].values)\n",
        "plt.title('TOEFL Scores Distribution')\n",
        "plt.show()"
      ],
      "execution_count": 106,
      "outputs": [
        {
          "output_type": "display_data",
          "data": {
            "image/png": "[encoded data removed]",
            "text/plain": [
              "<Figure size 432x288 with 1 Axes>"
            ]
          },
          "metadata": {
            "tags": [],
            "needs_background": "light"
          }
        }
      ]
    },
    {
      "cell_type": "code",
      "metadata": {
        "id": "b-WHm3ANjnkI",
        "colab_type": "code",
        "outputId": "7958843e-0c56-4299-d6fd-b70f7b9f4516",
        "colab": {
          "base_uri": "https://localhost:8080/",
          "height": 282
        }
      },
      "source": [
        "import seaborn as sns\n",
        "\n",
        "sns.distplot(dataset.iloc[:,2].values)"
      ],
      "execution_count": 107,
      "outputs": [
        {
          "output_type": "execute_result",
          "data": {
            "text/plain": [
              "<matplotlib.axes._subplots.AxesSubplot at 0x7f6c6373c588>"
            ]
          },
          "metadata": {
            "tags": []
          },
          "execution_count": 107
        },
        {
          "output_type": "display_data",
          "data": {
            "image/png": "[encoded data removed]",
            "text/plain": [
              "<Figure size 432x288 with 1 Axes>"
            ]
          },
          "metadata": {
            "tags": [],
            "needs_background": "light"
          }
        }
      ]
    },
    {
      "cell_type": "code",
      "metadata": {
        "id": "ZFyL0uBeprC4",
        "colab_type": "code",
        "outputId": "308cbb92-b708-4fe3-ae80-fd4578c16479",
        "colab": {
          "base_uri": "https://localhost:8080/",
          "height": 70
        }
      },
      "source": [
        "# GRE Scores\n",
        "toefl_median = np.median(dataset.iloc[:,2].values)\n",
        "toefl_mean = np.mean(dataset.iloc[:,2].values)\n",
        "\n",
        "print(\"TOEFL Scores Summary\")\n",
        "print(\"TOEFL Median: \", toefl_median)\n",
        "print(\"TOEFL Mean: \", toefl_mean)"
      ],
      "execution_count": 108,
      "outputs": [
        {
          "output_type": "stream",
          "text": [
            "TOEFL Scores Summary\n",
            "TOEFL Median:  107.0\n",
            "TOEFL Mean:  107.41\n"
          ],
          "name": "stdout"
        }
      ]
    },
    {
      "cell_type": "markdown",
      "metadata": {
        "id": "buj2XQOck9Q6",
        "colab_type": "text"
      },
      "source": [
        "### CGPA Distribution"
      ]
    },
    {
      "cell_type": "code",
      "metadata": {
        "id": "NyOAXz9kjt6r",
        "colab_type": "code",
        "outputId": "5fdee114-c078-4db4-c2d9-6c2add08d49a",
        "colab": {
          "base_uri": "https://localhost:8080/",
          "height": 281
        }
      },
      "source": [
        "plt.hist(dataset.iloc[:,-3].values, bins=20)\n",
        "plt.title('CGPA Distribution')\n",
        "plt.show()"
      ],
      "execution_count": 109,
      "outputs": [
        {
          "output_type": "display_data",
          "data": {
            "image/png": "[encoded data removed]",
            "text/plain": [
              "<Figure size 432x288 with 1 Axes>"
            ]
          },
          "metadata": {
            "tags": [],
            "needs_background": "light"
          }
        }
      ]
    },
    {
      "cell_type": "code",
      "metadata": {
        "id": "EmT63ABQlOd8",
        "colab_type": "code",
        "outputId": "192322f5-a1b4-46be-e0b7-ad9380c71594",
        "colab": {
          "base_uri": "https://localhost:8080/",
          "height": 282
        }
      },
      "source": [
        "import seaborn as sns\n",
        "\n",
        "sns.distplot(dataset.iloc[:,-3].values)"
      ],
      "execution_count": 110,
      "outputs": [
        {
          "output_type": "execute_result",
          "data": {
            "text/plain": [
              "<matplotlib.axes._subplots.AxesSubplot at 0x7f6c67ee2cc0>"
            ]
          },
          "metadata": {
            "tags": []
          },
          "execution_count": 110
        },
        {
          "output_type": "display_data",
          "data": {
            "image/png": "[encoded data removed]",
            "text/plain": [
              "<Figure size 432x288 with 1 Axes>"
            ]
          },
          "metadata": {
            "tags": [],
            "needs_background": "light"
          }
        }
      ]
    },
    {
      "cell_type": "code",
      "metadata": {
        "id": "0Exf2ptGqH3n",
        "colab_type": "code",
        "outputId": "462bd2ce-50a9-4316-9d81-ea5310978d48",
        "colab": {
          "base_uri": "https://localhost:8080/",
          "height": 70
        }
      },
      "source": [
        "# GRE Scores\n",
        "cgpa_median = np.median(dataset.iloc[:,-3].values)\n",
        "cgpa_mean = np.mean(dataset.iloc[:,-3].values)\n",
        "\n",
        "print(\"CGPA Scores Summary\")\n",
        "print(\"CGPA Median: \", cgpa_median)\n",
        "print(\"CGPA Mean: \", cgpa_mean)"
      ],
      "execution_count": 111,
      "outputs": [
        {
          "output_type": "stream",
          "text": [
            "CGPA Scores Summary\n",
            "CGPA Median:  8.61\n",
            "CGPA Mean:  8.598925\n"
          ],
          "name": "stdout"
        }
      ]
    },
    {
      "cell_type": "markdown",
      "metadata": {
        "id": "4bAx7hx05cSX",
        "colab_type": "text"
      },
      "source": [
        "### GRE vs Admit Probability"
      ]
    },
    {
      "cell_type": "code",
      "metadata": {
        "id": "O8F7B_UNsz_q",
        "colab_type": "code",
        "outputId": "ffac4774-30c6-4840-90b6-2c31f3a4bc57",
        "colab": {
          "base_uri": "https://localhost:8080/",
          "height": 295
        }
      },
      "source": [
        "threshold = 0.75\n",
        "plt.scatter(X[:,0][y>threshold], y[y>threshold], color='green', label='>' + str(threshold*100)+' Chance of Admit')\n",
        "plt.scatter(X[:,0][y<=threshold], y[y<=threshold], color='red', label='<' + str(threshold*100)+' Chance of Admit')\n",
        "plt.xlabel('GRE Score')\n",
        "plt.ylabel('Chance of Admit')\n",
        "plt.title('GRE Score vs Chance of Admit')\n",
        "plt.legend()\n",
        "plt.show()"
      ],
      "execution_count": 129,
      "outputs": [
        {
          "output_type": "display_data",
          "data": {
            "image/png": "[encoded data removed]",
            "text/plain": [
              "<Figure size 432x288 with 1 Axes>"
            ]
          },
          "metadata": {
            "tags": [],
            "needs_background": "light"
          }
        }
      ]
    },
    {
      "cell_type": "markdown",
      "metadata": {
        "id": "a2uQyUZf7Y-D",
        "colab_type": "text"
      },
      "source": [
        "### TOEFL vs Chance of Admit"
      ]
    },
    {
      "cell_type": "code",
      "metadata": {
        "id": "ZyAZB3yIwTfH",
        "colab_type": "code",
        "outputId": "e44d5fcb-428c-4811-9190-1d4301e391a4",
        "colab": {
          "base_uri": "https://localhost:8080/",
          "height": 295
        }
      },
      "source": [
        "threshold = 0.8\n",
        "plt.scatter(X[:,1][y>threshold], y[y>threshold], color='green', label='>' + str(threshold*100)+' Chance of Admit')\n",
        "plt.scatter(X[:,1][y<=threshold], y[y<=threshold], color='red', label='<' + str(threshold*100)+' Chance of Admit')\n",
        "plt.xlabel('TOEFL Score')\n",
        "plt.ylabel('Chance of Admit')\n",
        "plt.title('TOEFL Score vs Chance of Admit')\n",
        "plt.legend()\n",
        "plt.show()"
      ],
      "execution_count": 127,
      "outputs": [
        {
          "output_type": "display_data",
          "data": {
            "image/png": "[encoded data removed]",
            "text/plain": [
              "<Figure size 432x288 with 1 Axes>"
            ]
          },
          "metadata": {
            "tags": [],
            "needs_background": "light"
          }
        }
      ]
    },
    {
      "cell_type": "markdown",
      "metadata": {
        "id": "cmEhUX7h5leT",
        "colab_type": "text"
      },
      "source": [
        "### GRE Score vs TOEFL Score\n",
        "\n",
        "To compare How high scoring stuents GRE perform in TOEFL"
      ]
    },
    {
      "cell_type": "code",
      "metadata": {
        "id": "VOw_aowawehN",
        "colab_type": "code",
        "outputId": "6e0926d9-d162-4102-c857-df72043b6cd8",
        "colab": {
          "base_uri": "https://localhost:8080/",
          "height": 295
        }
      },
      "source": [
        "plt.scatter(X[:,0], X[:,1], color='blue')\n",
        "plt.xlabel('GRE Score')\n",
        "plt.ylabel('TOEFL Score')\n",
        "plt.title('GRE Score vs TOEFL Score')\n",
        "plt.show()"
      ],
      "execution_count": 116,
      "outputs": [
        {
          "output_type": "display_data",
          "data": {
            "image/png": "[encoded data removed]",
            "text/plain": [
              "<Figure size 432x288 with 1 Axes>"
            ]
          },
          "metadata": {
            "tags": [],
            "needs_background": "light"
          }
        }
      ]
    },
    {
      "cell_type": "markdown",
      "metadata": {
        "id": "yKyNGmv15zmL",
        "colab_type": "text"
      },
      "source": [
        "### CGPA vs Chance of Admit"
      ]
    },
    {
      "cell_type": "code",
      "metadata": {
        "id": "xigTlQClyYhn",
        "colab_type": "code",
        "outputId": "bd8f9e3d-40e6-4e91-c1a4-efdef0169dea",
        "colab": {
          "base_uri": "https://localhost:8080/",
          "height": 295
        }
      },
      "source": [
        "threshold = 0.8\n",
        "plt.scatter(X[:,-2][y>threshold], y[y>threshold], color='green', label='>' + str(threshold*100)+' Chance of Admit')\n",
        "plt.scatter(X[:,-2][y<=threshold], y[y<=threshold], color='red', label='<' + str(threshold*100)+' Chance of Admit')\n",
        "plt.xlabel('CGPA')\n",
        "plt.ylabel('Chance of Admit')\n",
        "plt.title('CGPA vs Chance of Admit')\n",
        "plt.legend()\n",
        "plt.show()"
      ],
      "execution_count": 126,
      "outputs": [
        {
          "output_type": "display_data",
          "data": {
            "image/png": "[encoded data removed]",
            "text/plain": [
              "<Figure size 432x288 with 1 Axes>"
            ]
          },
          "metadata": {
            "tags": [],
            "needs_background": "light"
          }
        }
      ]
    },
    {
      "cell_type": "markdown",
      "metadata": {
        "id": "RMYVyVws55T8",
        "colab_type": "text"
      },
      "source": [
        "### CGPA vs GRE Score\n",
        "To Compare how Academically well performing students score on GRE"
      ]
    },
    {
      "cell_type": "code",
      "metadata": {
        "id": "WPAbaXb2ydtc",
        "colab_type": "code",
        "outputId": "783b33d2-21e3-4ed9-e7fb-1babb0d2bad8",
        "colab": {
          "base_uri": "https://localhost:8080/",
          "height": 295
        }
      },
      "source": [
        "plt.scatter(X[:,-2], X[:,0], color='blue', label='GRE')\n",
        "# plt.scatter(X_train[:,-2], X_train[:,0], color='blue', label='GRE')\n",
        "# plt.scatter(X_train[:,-2], X_train[:,1], color='red', label='TOEFL')\n",
        "plt.xlabel('CGPA')\n",
        "plt.ylabel('GRE Score')\n",
        "plt.title('CGPA vs GRE')\n",
        "plt.legend()\n",
        "plt.show()"
      ],
      "execution_count": 124,
      "outputs": [
        {
          "output_type": "display_data",
          "data": {
            "image/png": "[encoded data removed]",
            "text/plain": [
              "<Figure size 432x288 with 1 Axes>"
            ]
          },
          "metadata": {
            "tags": [],
            "needs_background": "light"
          }
        }
      ]
    },
    {
      "cell_type": "markdown",
      "metadata": {
        "id": "dpVjPlIFq-AT",
        "colab_type": "text"
      },
      "source": [
        "## Split Dataset into Training and Test Dataset"
      ]
    },
    {
      "cell_type": "code",
      "metadata": {
        "id": "jQEpyJvfrCV2",
        "colab_type": "code",
        "colab": {}
      },
      "source": [
        "from sklearn.model_selection import train_test_split\n",
        "\n",
        "X = dataset.iloc[:,1:8].values\n",
        "y = dataset.iloc[:,-1].values\n",
        "\n",
        "X_train, X_test, y_train, y_test = train_test_split(X, y)"
      ],
      "execution_count": 0,
      "outputs": []
    },
    {
      "cell_type": "markdown",
      "metadata": {
        "id": "SgUqD3rWsEgv",
        "colab_type": "text"
      },
      "source": [
        "## Feature Scaling"
      ]
    },
    {
      "cell_type": "code",
      "metadata": {
        "id": "on5dML1Arvaf",
        "colab_type": "code",
        "colab": {}
      },
      "source": [
        "from sklearn.preprocessing import StandardScaler\n",
        "\n",
        "def feature_scaler(X):\n",
        "  sc = StandardScaler()\n",
        "  X[:,:-1] = sc.fit_transform(X[:,:-1])  \n",
        "  return X\n",
        "\n",
        "X_train = feature_scaler(X_train)\n",
        "X_test = feature_scaler(X_test)"
      ],
      "execution_count": 0,
      "outputs": []
    },
    {
      "cell_type": "markdown",
      "metadata": {
        "id": "5kF22lVT7rEa",
        "colab_type": "text"
      },
      "source": [
        "## Building Machine Learning Models"
      ]
    },
    {
      "cell_type": "markdown",
      "metadata": {
        "id": "t3RK4-jf7w3D",
        "colab_type": "text"
      },
      "source": [
        "### Linear Regression"
      ]
    },
    {
      "cell_type": "code",
      "metadata": {
        "id": "8KNgj3TA08EN",
        "colab_type": "code",
        "colab": {}
      },
      "source": [
        "from sklearn.linear_model import LinearRegression\n",
        "\n",
        "linear_regressor = LinearRegression()\n",
        "linear_regressor = linear_regressor.fit(X_train, y_train)"
      ],
      "execution_count": 0,
      "outputs": []
    },
    {
      "cell_type": "code",
      "metadata": {
        "id": "w54_LRKV8lfD",
        "colab_type": "code",
        "colab": {
          "base_uri": "https://localhost:8080/",
          "height": 34
        },
        "outputId": "efd2377d-95d6-4042-ab2d-36e2ef46f3b4"
      },
      "source": [
        "linear_regressor_score = linear_regressor.score(X_test, y_test)\n",
        "print(round(linear_regressor_score*100, 2),'%')"
      ],
      "execution_count": 163,
      "outputs": [
        {
          "output_type": "stream",
          "text": [
            "84.33 %\n"
          ],
          "name": "stdout"
        }
      ]
    },
    {
      "cell_type": "code",
      "metadata": {
        "id": "c8-OYB0ZAuzt",
        "colab_type": "code",
        "colab": {
          "base_uri": "https://localhost:8080/",
          "height": 105
        },
        "outputId": "254388ab-73e7-44ec-8e3f-335c6740350f"
      },
      "source": [
        "print('Intercept: \\n', linear_regressor.intercept_)\n",
        "print('Coefficients: \\n', linear_regressor.coef_)"
      ],
      "execution_count": 164,
      "outputs": [
        {
          "output_type": "stream",
          "text": [
            "Intercept: \n",
            " 0.7104976722362891\n",
            "Coefficients: \n",
            " [ 0.01717547  0.01868172  0.00792052 -0.00382472  0.02019396  0.06782186\n",
            "  0.03056334]\n"
          ],
          "name": "stdout"
        }
      ]
    },
    {
      "cell_type": "markdown",
      "metadata": {
        "id": "pcgktjxh-MwE",
        "colab_type": "text"
      },
      "source": [
        "### Decision Tree"
      ]
    },
    {
      "cell_type": "code",
      "metadata": {
        "id": "ip4wWbxy-S73",
        "colab_type": "code",
        "colab": {}
      },
      "source": [
        "from sklearn.tree import DecisionTreeRegressor\n",
        "\n",
        "decision_tree_regressor = DecisionTreeRegressor()\n",
        "decision_tree_regressor = decision_tree_regressor.fit(X_train, y_train)"
      ],
      "execution_count": 0,
      "outputs": []
    },
    {
      "cell_type": "code",
      "metadata": {
        "id": "xbpJ0WtO-cWX",
        "colab_type": "code",
        "colab": {
          "base_uri": "https://localhost:8080/",
          "height": 34
        },
        "outputId": "43247e5c-daee-4e52-ff44-d1d46966e04f"
      },
      "source": [
        "decision_tree_score = decision_tree_regressor.score(X_test, y_test)\n",
        "print(round(decision_tree_score*100, 2),'%')"
      ],
      "execution_count": 166,
      "outputs": [
        {
          "output_type": "stream",
          "text": [
            "66.38 %\n"
          ],
          "name": "stdout"
        }
      ]
    },
    {
      "cell_type": "code",
      "metadata": {
        "id": "s-C-bx9R-d_3",
        "colab_type": "code",
        "colab": {}
      },
      "source": [
        "tree.plot_tree(decision_tree_regressor)"
      ],
      "execution_count": 0,
      "outputs": []
    },
    {
      "cell_type": "markdown",
      "metadata": {
        "id": "SByAKXmX_r7L",
        "colab_type": "text"
      },
      "source": [
        "### Random Forest Regression Model"
      ]
    },
    {
      "cell_type": "code",
      "metadata": {
        "id": "W8Cstf1sAEjG",
        "colab_type": "code",
        "colab": {}
      },
      "source": [
        "from sklearn.ensemble import RandomForestRegressor\n",
        "\n",
        "random_forest_regressor = RandomForestRegressor()\n",
        "random_forest_regressor = random_forest_regressor.fit(X_train, y_train)"
      ],
      "execution_count": 0,
      "outputs": []
    },
    {
      "cell_type": "code",
      "metadata": {
        "id": "2GSH9hk9AJnP",
        "colab_type": "code",
        "colab": {
          "base_uri": "https://localhost:8080/",
          "height": 34
        },
        "outputId": "74655312-5ce1-42a8-96aa-3384bb96488d"
      },
      "source": [
        "random_forest_score = regressor.score(X_test, y_test)\n",
        "print(round(random_forest_score*100, 2),'%')"
      ],
      "execution_count": 168,
      "outputs": [
        {
          "output_type": "stream",
          "text": [
            "72.11 %\n"
          ],
          "name": "stdout"
        }
      ]
    },
    {
      "cell_type": "markdown",
      "metadata": {
        "id": "4YTNsNL7Bc0p",
        "colab_type": "text"
      },
      "source": [
        "### SVR Model"
      ]
    },
    {
      "cell_type": "code",
      "metadata": {
        "id": "gm8lG5fKAKtm",
        "colab_type": "code",
        "colab": {}
      },
      "source": [
        "from sklearn.svm import SVR\n",
        "\n",
        "svr_regressor = SVR(kernel='rbf')\n",
        "svr_regressor = svr_regressor.fit(X_train, y_train)"
      ],
      "execution_count": 0,
      "outputs": []
    },
    {
      "cell_type": "code",
      "metadata": {
        "id": "ll9mrnFFB2fv",
        "colab_type": "code",
        "colab": {
          "base_uri": "https://localhost:8080/",
          "height": 34
        },
        "outputId": "e07280b4-be33-491b-fe94-4a75a39e08ae"
      },
      "source": [
        "svr_score = regressor.score(X_test, y_test)\n",
        "print(round(svr_score*100, 2),'%')"
      ],
      "execution_count": 170,
      "outputs": [
        {
          "output_type": "stream",
          "text": [
            "72.11 %\n"
          ],
          "name": "stdout"
        }
      ]
    },
    {
      "cell_type": "code",
      "metadata": {
        "id": "HMCHTWXYB5Df",
        "colab_type": "code",
        "colab": {
          "base_uri": "https://localhost:8080/",
          "height": 105
        },
        "outputId": "693cc9e1-9313-43a5-a6e9-cfcdccdfdbd4"
      },
      "source": [
        "df = pd.DataFrame({'Regression Model': ['Linear Regression', 'Decision Tree Regression', 'Random Forest Regression', 'SVR Model'],\n",
        "                  'Accuracy Score': [linear_reg_score, decision_tree_score, random_forest_score, svr_score] },\n",
        "                  columns= ['Regression Model', 'Accuracy Score'])\n",
        "print(df)"
      ],
      "execution_count": 174,
      "outputs": [
        {
          "output_type": "stream",
          "text": [
            "           Regression Model  Accuracy Score\n",
            "0         Linear Regression        0.843260\n",
            "1  Decision Tree Regression        0.663821\n",
            "2  Random Forest Regression        0.721148\n",
            "3                 SVR Model        0.721148\n"
          ],
          "name": "stdout"
        }
      ]
    },
    {
      "cell_type": "code",
      "metadata": {
        "id": "FBZkXxHMD7Mr",
        "colab_type": "code",
        "colab": {}
      },
      "source": [
        ""
      ],
      "execution_count": 0,
      "outputs": []
    }
  ]
}