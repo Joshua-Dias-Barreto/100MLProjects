{
  "nbformat": 4,
  "nbformat_minor": 0,
  "metadata": {
    "colab": {
      "name": "3.2 Logistic Regression.ipynb",
      "provenance": [],
      "toc_visible": true,
      "authorship_tag": "ABX9TyOwB99gw1haQDxEqhC98p0V"
    },
    "kernelspec": {
      "name": "python3",
      "display_name": "Python 3"
    }
  },
  "cells": [
    {
      "cell_type": "markdown",
      "metadata": {
        "id": "fMkKGfH7L3PL",
        "colab_type": "text"
      },
      "source": [
        "# 3.2 Implementing Logistic Regression from Scratch\n",
        "### Challenge 3: [Implementating Regression Algorithms from Scratch]\n",
        "\n",
        "This project is a part of #100MLProjects\n",
        "\n",
        "\n",
        "**Note:** This is a Fair Draft of the Project, you can find my worsheet here -> [Logistic Regression Worksheet](#). \n"
      ]
    },
    {
      "cell_type": "code",
      "metadata": {
        "id": "mYQ0_E2TzIqG",
        "colab_type": "code",
        "colab": {}
      },
      "source": [
        "import numpy as np\n",
        "import pandas as pd\n",
        "import matplotlib.pyplot as plt\n",
        "from sklearn.datasets import load_breast_cancer\n",
        "from sklearn.model_selection import train_test_split\n",
        "from sklearn.metrics import classification_report, confusion_matrix, accuracy_score"
      ],
      "execution_count": 121,
      "outputs": []
    },
    {
      "cell_type": "markdown",
      "metadata": {
        "id": "qEFQIL_7MJzG",
        "colab_type": "text"
      },
      "source": [
        "Similar to the Linear Regression Implementation, This implementation will also compare the performance of Scikit Learn Logistic Regression Model and the model I'm building from Scratch."
      ]
    },
    {
      "cell_type": "markdown",
      "metadata": {
        "id": "aQp31a0lMmGI",
        "colab_type": "text"
      },
      "source": [
        "## DataSet: Breast Cancer Classification Dataset\n",
        "\n",
        "This dataset is preloaded in Scikit-Learn library, and I'll make use of that.\n",
        "\n",
        "Dataset has 30 Independent variables.\n",
        "Dependendent variable has 2 classes - *WDBC-Malignant* and *WDBC-Benign*\n",
        "\n",
        "We need to build a model that classifies into either of these classes.\n",
        "\n",
        "Check Sklearn [documentation](https://scikit-learn.org/stable/datasets/index.html#breast-cancer-dataset) for the dataset"
      ]
    },
    {
      "cell_type": "code",
      "metadata": {
        "id": "1vpYALQPz2V0",
        "colab_type": "code",
        "colab": {}
      },
      "source": [
        "dataset = load_breast_cancer()"
      ],
      "execution_count": 122,
      "outputs": []
    },
    {
      "cell_type": "code",
      "metadata": {
        "id": "I-42JYgT0EZo",
        "colab_type": "code",
        "colab": {}
      },
      "source": [
        "X = dataset['data']\n",
        "y = dataset['target']"
      ],
      "execution_count": 150,
      "outputs": []
    },
    {
      "cell_type": "code",
      "metadata": {
        "id": "3nJQ7sGQ0GEX",
        "colab_type": "code",
        "colab": {}
      },
      "source": [
        "X_train, X_test, y_train, y_test = train_test_split(X, y, test_size=0.3, random_state=123)"
      ],
      "execution_count": 124,
      "outputs": []
    },
    {
      "cell_type": "markdown",
      "metadata": {
        "id": "WnXQQuz5M4Ha",
        "colab_type": "text"
      },
      "source": [
        "## Scaling the Features\n",
        "\n",
        "During the implementation process, I compared using ML Models - 1. Model trained with Scaled Features and 2. ML Model trained without Scaling the input features.\n",
        "\n",
        "There was a visible difference in the performance, Scaling the features really increased the accuracy of the models.\n",
        "\n",
        "I also experimented with different ranges for MinMaxScaler, but (-1 to 1) yielded better results than other ranges.\n"
      ]
    },
    {
      "cell_type": "code",
      "metadata": {
        "id": "GQRaPSDD06Ir",
        "colab_type": "code",
        "colab": {}
      },
      "source": [
        "from sklearn.preprocessing import MinMaxScaler\n",
        "\n",
        "scaler = MinMaxScaler((-1, 1))\n",
        "X_train = scaler.fit_transform(X_train)\n",
        "X_test = scaler.transform(X_test)"
      ],
      "execution_count": 125,
      "outputs": []
    },
    {
      "cell_type": "markdown",
      "metadata": {
        "id": "UOPPfw6pNsqY",
        "colab_type": "text"
      },
      "source": [
        "## Scikit-Learn Logistic Regression Model\n",
        "\n",
        "Building Scikit Learn's Logistic Regression implmentation to set a benchmark for comparison."
      ]
    },
    {
      "cell_type": "code",
      "metadata": {
        "id": "s87JCO1J0vVZ",
        "colab_type": "code",
        "colab": {
          "base_uri": "https://localhost:8080/",
          "height": 246
        },
        "outputId": "68decc5a-8290-404b-cd43-b002272e9d86"
      },
      "source": [
        "from sklearn.linear_model import LogisticRegression\n",
        "\n",
        "lr = LogisticRegression()\n",
        "lr.fit(X_train, y_train)\n",
        "\n",
        "y_pred = lr.predict(X_test)\n",
        "\n",
        "print(\"Classification Report:\")\n",
        "print(classification_report(y_test, y_pred))\n",
        "\n",
        "print(\"Confusion Matrix:\\n\", confusion_matrix(y_test, y_pred))"
      ],
      "execution_count": 126,
      "outputs": [
        {
          "output_type": "stream",
          "text": [
            "Classification Report:\n",
            "              precision    recall  f1-score   support\n",
            "\n",
            "           0       1.00      0.97      0.99        68\n",
            "           1       0.98      1.00      0.99       103\n",
            "\n",
            "    accuracy                           0.99       171\n",
            "   macro avg       0.99      0.99      0.99       171\n",
            "weighted avg       0.99      0.99      0.99       171\n",
            "\n",
            "Confusion Matrix:\n",
            " [[ 66   2]\n",
            " [  0 103]]\n"
          ],
          "name": "stdout"
        }
      ]
    },
    {
      "cell_type": "markdown",
      "metadata": {
        "id": "aMDyKR1LOIZB",
        "colab_type": "text"
      },
      "source": [
        "Scikit Learn's Linear regression has captured the patterns of the dataset exceptionally well.\n",
        "\n",
        "It resulted an accuracy of 99%"
      ]
    },
    {
      "cell_type": "markdown",
      "metadata": {
        "id": "NaQwgrbs4cmo",
        "colab_type": "text"
      },
      "source": [
        "## Implementing Custom Logistic Regression"
      ]
    },
    {
      "cell_type": "markdown",
      "metadata": {
        "id": "GTNiZ5M15k8e",
        "colab_type": "text"
      },
      "source": [
        "### Sigmoid Function\n",
        "\n",
        "Sigmoid function is one of the activation functions used in binary classification and neural networks.\n",
        "\n",
        "\n",
        "It results in a score between 0 and 1, which is the confidence score. Based on the threshold we provide, we can classify it to either one of the groups(In this case: Malignant or Benign)"
      ]
    },
    {
      "cell_type": "code",
      "metadata": {
        "id": "0GZwL8fG1tXh",
        "colab_type": "code",
        "colab": {}
      },
      "source": [
        "def sigmoid(x):\n",
        "  return 1/(1 + np.exp(-z))"
      ],
      "execution_count": 127,
      "outputs": []
    },
    {
      "cell_type": "code",
      "metadata": {
        "id": "9hk18kDU4ubS",
        "colab_type": "code",
        "colab": {
          "base_uri": "https://localhost:8080/",
          "height": 284
        },
        "outputId": "3daae263-79e5-444a-b5ec-cb50ec0d6b11"
      },
      "source": [
        "import seaborn as sns\n",
        "sns.set()\n",
        "z = np.linspace(-10, 10, 200)\n",
        "plt.plot(z, sigmoid(z))\n",
        "plt.title(\"Sigmoid Function - 1/(1 + exp(-z))\")\n",
        "plt.show()"
      ],
      "execution_count": 128,
      "outputs": [
        {
          "output_type": "display_data",
          "data": {
            "image/png": "[encoded data removed]",
            "text/plain": [
              "<Figure size 432x288 with 1 Axes>"
            ]
          },
          "metadata": {
            "tags": []
          }
        }
      ]
    },
    {
      "cell_type": "code",
      "metadata": {
        "id": "CTpXCX_443Jv",
        "colab_type": "code",
        "colab": {}
      },
      "source": [
        "class CustomLogisticRegression:\n",
        "  \"\"\" Custom Logistic Regression Implementation.\n",
        "\n",
        "  Parameters\n",
        "  ----------\n",
        "  eta : float\n",
        "    Learning rate (between 0.0 and 1.0)\n",
        "  n_iter : int\n",
        "    Number of Epochs or Passes over the training set\n",
        "  random_state : int\n",
        "    Random number generator seed for random weight initialization.\n",
        "  \n",
        "  Attributes:\n",
        "  -----------\n",
        "  weights_ : 1D Array\n",
        "    Array of Bias and Coefficients.\n",
        "    First element of w_ is the bias, and rest are the coefficients.\n",
        "  \"\"\"\n",
        "  def __init__(self, eta=0.05, n_iter=2000, random_state=None):\n",
        "    self.eta = eta\n",
        "    self.n_iter = n_iter\n",
        "    self.random_state = random_state\n",
        "\n",
        "  def sigmoid(self, z):\n",
        "    \"\"\"Compute Sigmoid.\n",
        "\n",
        "    Parameters\n",
        "    ----------\n",
        "    z : {array-like}, shape=[n_samples, n_features]\n",
        "\n",
        "    Returns\n",
        "    -------\n",
        "    sigmoid_value : float\n",
        "      returns the sigmoid value for given input.\n",
        "    \"\"\"\n",
        "    return 1 / (1 + np.exp(-z))\n",
        "\n",
        "  def fit(self, X, y):\n",
        "    \"\"\"Fit training data.\n",
        "\n",
        "    Parameters\n",
        "    ----------\n",
        "    X : {array-like}, shape=[n_samples, n_features]\n",
        "      Training vectors where n_samples is the number of datapoints,\n",
        "      and n_features is the number of features.\n",
        "    y : array_like, shape=[n_samples]\n",
        "      Target Values\n",
        "\n",
        "    Returns\n",
        "    -------\n",
        "    self : object\n",
        "    \"\"\"\n",
        "    np.random.seed(self.random_state)\n",
        "    weights = np.random.rand(X.shape[1])\n",
        "    N = len(X)\n",
        "    for _ in range(self.n_iter):\n",
        "      y_pred = self.sigmoid(np.dot(X, weights))\n",
        "      weights -= self.eta * np.dot(X.T, y_pred - y) / N\n",
        "    self.weights = weights\n",
        "    return self\n",
        "\n",
        "  def predict(self, X):\n",
        "    \"\"\"Make predictions for new datapoint.\n",
        "\n",
        "    Parameters:\n",
        "    -----------\n",
        "    X : {array-like}, shape=[n_samples, n_features]\n",
        "      Training vectors where n_samples is the number of datapoints,\n",
        "      and n_features is the number of features.\n",
        "\n",
        "    Returns:\n",
        "    --------\n",
        "    y_pred: {array-like}, shape=[n_samples]\n",
        "      returns an array of predicted values that either belong to class 0 or 1.\n",
        "    \"\"\"\n",
        "    y_pred = np.dot(X, self.weights)\n",
        "    return [1 if i > 0.5 else 0 for i in self.sigmoid(y_pred)]"
      ],
      "execution_count": 172,
      "outputs": []
    },
    {
      "cell_type": "code",
      "metadata": {
        "id": "zrjHJUexYh5-",
        "colab_type": "code",
        "colab": {}
      },
      "source": [
        "clr = CustomLogisticRegression(random_state=123)\n",
        "clr = clr.fit(X_train, y_train)"
      ],
      "execution_count": 173,
      "outputs": []
    },
    {
      "cell_type": "code",
      "metadata": {
        "id": "fNLbIgcCaQBV",
        "colab_type": "code",
        "colab": {}
      },
      "source": [
        "y_pred = clr.predict(X_test)"
      ],
      "execution_count": 174,
      "outputs": []
    },
    {
      "cell_type": "code",
      "metadata": {
        "id": "7qAoWDPKavP0",
        "colab_type": "code",
        "colab": {
          "base_uri": "https://localhost:8080/",
          "height": 263
        },
        "outputId": "82db8583-a1c0-4be3-8e72-63cdacac31d3"
      },
      "source": [
        "print(\"Confusion Matrix:\\n\", confusion_matrix(y_test, y_pred))\n",
        "print(\"----------------------------\")\n",
        "print(\"Classification Report:\\n\", classification_report(y_test, y_pred))"
      ],
      "execution_count": 177,
      "outputs": [
        {
          "output_type": "stream",
          "text": [
            "Confusion Matrix:\n",
            " [[ 65   3]\n",
            " [  2 101]]\n",
            "----------------------------\n",
            "Classification Report:\n",
            "               precision    recall  f1-score   support\n",
            "\n",
            "           0       0.97      0.96      0.96        68\n",
            "           1       0.97      0.98      0.98       103\n",
            "\n",
            "    accuracy                           0.97       171\n",
            "   macro avg       0.97      0.97      0.97       171\n",
            "weighted avg       0.97      0.97      0.97       171\n",
            "\n"
          ],
          "name": "stdout"
        }
      ]
    },
    {
      "cell_type": "markdown",
      "metadata": {
        "id": "6iUetLc1Qg9q",
        "colab_type": "text"
      },
      "source": [
        "### Conclusion\n",
        "\n",
        "Accuracy: 97%\n",
        "\n",
        "The built Logistic Regression performs really well. Further improvements are needed to tweak up the performance to match sklearn's Logistic Regression. "
      ]
    },
    {
      "cell_type": "markdown",
      "metadata": {
        "id": "Ytbuca6FQ5vX",
        "colab_type": "text"
      },
      "source": [
        "## Resources\n",
        "\n",
        "The following are the resources that I used extensively to learn more about this topic. \n",
        "\n",
        "1. [Stats CMU](https://www.stat.cmu.edu/~cshalizi/uADA/12/lectures/ch12.pdf)\n",
        "2. [Logistic Regression from Scratch - Kaggle Notebook](https://www.kaggle.com/jeppbautista/logistic-regression-from-scratch-python)\n",
        "3. [Becker Nick - Logistic Regression](https://beckernick.github.io/logistic-regression-from-scratch/)\n",
        "4. [Logistic Regression Theory](https://www.pugetsystems.com/labs/hpc/Machine-Learning-and-Data-Science-Logistic-Regression-Theory-988/#:~:text=Logistic%20Regression%20the%20Theory&text=%22Regression%22%20is%20an%20historic%20part,%2C%20good%20or%20bad%20etc..)\n",
        "5. [Towards DataScience - Logistic Regression](https://towardsdatascience.com/logistic-regression-from-scratch-69db4f587e17)\n",
        "6. [Christophm Interpretable ML Book](https://christophm.github.io/interpretable-ml-book/logistic.html)\n",
        "\n",
        "Also, I extensively used 3Blue1Brown and Khanacademy to brush-up the math knowledge I needed while trying to derive the derivatives for the optimization algorithms."
      ]
    },
    {
      "cell_type": "code",
      "metadata": {
        "id": "1S0vhgMfifOV",
        "colab_type": "code",
        "colab": {}
      },
      "source": [
        ""
      ],
      "execution_count": null,
      "outputs": []
    }
  ]
}