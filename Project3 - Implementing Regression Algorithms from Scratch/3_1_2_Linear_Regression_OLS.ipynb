{
 "cells": [
  {
   "cell_type": "markdown",
   "metadata": {},
   "source": [
    "# 3.1.2 Implementing Linear Regression - Type 2 \n",
    "\n",
    "In this workbook, Ill implememnt the second method - **Ordinary Least Squares**  to find the bias and weight coefficients for simple linear regression."
   ]
  },
  {
   "cell_type": "code",
   "execution_count": 1,
   "metadata": {},
   "outputs": [],
   "source": [
    "import numpy as np\n",
    "import pandas as pd\n",
    "import matplotlib.pyplot as plt"
   ]
  },
  {
   "cell_type": "markdown",
   "metadata": {},
   "source": [
    "I'm selcting the same variables that i picked in the previous workbook for comparison purposes.\n",
    "\n",
    "**Petal-Length(Column 2)** and **Petal-Width(Row 3)**"
   ]
  },
  {
   "cell_type": "code",
   "execution_count": 2,
   "metadata": {},
   "outputs": [],
   "source": [
    "dataset = pd.read_csv('iris.data', header=None)\n",
    "X = dataset.iloc[:,[2]].values\n",
    "y = dataset.iloc[:,3].values"
   ]
  },
  {
   "cell_type": "code",
   "execution_count": 30,
   "metadata": {},
   "outputs": [],
   "source": [
    "from sklearn.model_selection import train_test_split\n",
    "\n",
    "X_train, X_test, y_train, y_test = train_test_split(X, y, random_state=0)"
   ]
  },
  {
   "cell_type": "markdown",
   "metadata": {},
   "source": [
    "I'm using the same random seed, that i used in the previous workbook."
   ]
  },
  {
   "cell_type": "markdown",
   "metadata": {},
   "source": [
    "### Ordinary Least Squares Formula\n",
    "\n",
    "The final derived equation for Ordinary Least Squares is:\n",
    "\n",
    "![Ordinary Least Squares Formula](linear_regression_ols.png)\n",
    "\n",
    "where x_bar and y_bar are mean of X and y respectively.\n",
    "\n",
    "m is the slope(Coefficient) and b is the bias(Intercept)"
   ]
  },
  {
   "cell_type": "code",
   "execution_count": 31,
   "metadata": {},
   "outputs": [],
   "source": [
    "# Implemenation of OLS to find the Slope and bias.\n",
    "def fit(x, y):\n",
    "    n = np.size(x)\n",
    "    x_mean, y_mean = np.mean(x), np.mean(y)\n",
    "    m_numer = np.sum(np.dot((x-x_mean).T, (y-y_mean)))\n",
    "    m_denom = np.sum(np.dot((x-x_mean).T, (x-x_mean)))\n",
    "    slope = m_numer/m_denom\n",
    "    bias = y_mean - slope*x_mean    \n",
    "    return (slope, bias)"
   ]
  },
  {
   "cell_type": "code",
   "execution_count": 32,
   "metadata": {},
   "outputs": [],
   "source": [
    "# Function to predict new datapoints\n",
    "def predict(X):\n",
    "    # y = m*x + b (m=slope, b=bias)\n",
    "    return slope*X + bias"
   ]
  },
  {
   "cell_type": "code",
   "execution_count": 33,
   "metadata": {},
   "outputs": [
    {
     "name": "stdout",
     "output_type": "stream",
     "text": [
      "(112, 1) (112,)\n"
     ]
    }
   ],
   "source": [
    "slope, bias = fit(X_train, y_train)"
   ]
  },
  {
   "cell_type": "markdown",
   "metadata": {},
   "source": [
    "#### Predicting and Comparing the values"
   ]
  },
  {
   "cell_type": "code",
   "execution_count": 34,
   "metadata": {},
   "outputs": [],
   "source": [
    "pred = predict(X_test)"
   ]
  },
  {
   "cell_type": "code",
   "execution_count": 38,
   "metadata": {},
   "outputs": [
    {
     "name": "stdout",
     "output_type": "stream",
     "text": [
      "Coeff:  0.420453237438627\n",
      "Intercept: -0.3739\n",
      "R2 Score: 0.8925\n"
     ]
    }
   ],
   "source": [
    "from sklearn.metrics import accuracy_score,r2_score\n",
    "\n",
    "print(\"Coeff: \", slope)\n",
    "print(\"Intercept: {:.4f}\".format(bias))\n",
    "print(\"R2 Score: {:.4f}\".format(r2_score(y_test, pred)))\n"
   ]
  },
  {
   "cell_type": "markdown",
   "metadata": {},
   "source": [
    "This is exactly the similar to the score of sklearn linear regression model."
   ]
  },
  {
   "cell_type": "markdown",
   "metadata": {},
   "source": [
    "### Visualizing the Regression Model"
   ]
  },
  {
   "cell_type": "code",
   "execution_count": 36,
   "metadata": {},
   "outputs": [
    {
     "data": {
      "image/png": "[encoded data removed]",
      "text/plain": [
       "<Figure size 432x288 with 1 Axes>"
      ]
     },
     "metadata": {
      "needs_background": "light"
     },
     "output_type": "display_data"
    }
   ],
   "source": [
    "plt.scatter(X_train, y_train, color='red',label=\"Train Set\")\n",
    "plt.scatter(X_test, y_test, color='green',label=\"Test Set\")\n",
    "xx = np.arange(start=X.min()-1, stop=X.max()+1, step=0.01)\n",
    "plt.plot(xx, predict(xx.reshape(len(xx), 1)), color='blue')\n",
    "plt.xlabel(\"Petal Length in cms\")\n",
    "plt.ylabel(\"Petal Width in cms\")\n",
    "plt.title(\"Custom Linear Regression\")\n",
    "plt.legend()\n",
    "plt.show()"
   ]
  },
  {
   "cell_type": "code",
   "execution_count": null,
   "metadata": {},
   "outputs": [],
   "source": []
  },
  {
   "cell_type": "code",
   "execution_count": null,
   "metadata": {},
   "outputs": [],
   "source": []
  }
 ],
 "metadata": {
  "kernelspec": {
   "display_name": "Python 3",
   "language": "python",
   "name": "python3"
  },
  "language_info": {
   "codemirror_mode": {
    "name": "ipython",
    "version": 3
   },
   "file_extension": ".py",
   "mimetype": "text/x-python",
   "name": "python",
   "nbconvert_exporter": "python",
   "pygments_lexer": "ipython3",
   "version": "3.7.4"
  }
 },
 "nbformat": 4,
 "nbformat_minor": 2
}
