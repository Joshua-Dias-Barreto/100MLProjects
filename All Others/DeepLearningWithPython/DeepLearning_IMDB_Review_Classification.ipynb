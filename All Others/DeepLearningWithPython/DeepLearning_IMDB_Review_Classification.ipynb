{
 "cells": [
  {
   "cell_type": "markdown",
   "metadata": {
    "id": "ngsb9ipVxqEh"
   },
   "source": [
    "## IMDB Review Classification as Positive or Negative\n",
    "\n",
    "This project is the implementation of IMDB Reviews classification example in Deep Learning with Python book.\n",
    "\n",
    "In this project, we try to build a model that classifes IMDB reviews as either positive or negative reviews using Deep Learning."
   ]
  },
  {
   "cell_type": "code",
   "execution_count": 1,
   "metadata": {
    "id": "MPtbw2XWxa9j"
   },
   "outputs": [],
   "source": [
    "import numpy as np\n",
    "import pandas as pd\n",
    "import matplotlib.pyplot as plt\n",
    "from keras import layers, models\n",
    "from keras.datasets import imdb\n",
    "from sklearn.model_selection import train_test_split\n",
    "from sklearn.metrics import jaccard_score"
   ]
  },
  {
   "cell_type": "markdown",
   "metadata": {
    "id": "I0u5waqwy7tc"
   },
   "source": [
    "Import Dataset"
   ]
  },
  {
   "cell_type": "code",
   "execution_count": 2,
   "metadata": {
    "colab": {
     "base_uri": "https://localhost:8080/",
     "height": 34
    },
    "id": "ocrkyDrXxo82",
    "outputId": "dde63cee-5a91-4d06-aaf9-a518a6d3a5df"
   },
   "outputs": [
    {
     "name": "stdout",
     "output_type": "stream",
     "text": [
      "Train Data Size: 25000, Test Data size: 25000\n"
     ]
    }
   ],
   "source": [
    "(train_data, train_label), (test_data, test_label) = imdb.load_data(num_words=10000)\n",
    "print('Train Data Size: {}, Test Data size: {}'.format(len(train_data), len(test_data)))"
   ]
  },
  {
   "cell_type": "markdown",
   "metadata": {
    "id": "q3iV2itry-yD"
   },
   "source": [
    "Build Deep Learning model architecture"
   ]
  },
  {
   "cell_type": "code",
   "execution_count": 3,
   "metadata": {
    "id": "aCXCfyOcyVs1"
   },
   "outputs": [],
   "source": [
    "def build_model():\n",
    "  model = models.Sequential(name='BinaryClassifier')\n",
    "  model.add(layers.Dense(16, activation='relu', input_shape=(10000,)))\n",
    "  model.add(layers.Dense(16, activation='relu'))\n",
    "  model.add(layers.Dense(1, activation='sigmoid'))\n",
    "  return model\n",
    "\n",
    "model = build_model()"
   ]
  },
  {
   "cell_type": "code",
   "execution_count": 4,
   "metadata": {
    "id": "ifALD2I83I3R"
   },
   "outputs": [],
   "source": [
    "model.compile(optimizer='rmsprop', loss='binary_crossentropy', metrics=['accuracy'])"
   ]
  },
  {
   "cell_type": "markdown",
   "metadata": {
    "id": "Ms1jmf3E0a_e"
   },
   "source": [
    "Pre-Process the Dataset\n",
    "\n",
    "Encode the data into vectors of words"
   ]
  },
  {
   "cell_type": "code",
   "execution_count": 5,
   "metadata": {
    "id": "qtBTtq0Dyd4r"
   },
   "outputs": [],
   "source": [
    "# naive implementation of One Hot Encoding\n",
    "def vectorize(sequences, dimension=10000):\n",
    "  result = np.zeros((len(sequences), dimension))\n",
    "  for i,sequence in enumerate(sequences):\n",
    "    result[i, sequence] += 1\n",
    "  return result\n",
    "\n",
    "train_data_encoded = vectorize(train_data)\n",
    "X_test = vectorize(test_data)\n",
    "\n",
    "train_label_encoded = np.asarray(train_label).astype('float32')\n",
    "Y_test = np.asarray(test_label).astype('float32')\n",
    "\n",
    "X_train, X_val, Y_train, Y_val = train_test_split(train_data_encoded, train_label_encoded, test_size=0.2, random_state=0)"
   ]
  },
  {
   "cell_type": "code",
   "execution_count": 6,
   "metadata": {
    "colab": {
     "base_uri": "https://localhost:8080/",
     "height": 721
    },
    "id": "KJJQia7k1UKN",
    "outputId": "9691cde9-038d-44da-fa22-64448bb4481b"
   },
   "outputs": [
    {
     "name": "stdout",
     "output_type": "stream",
     "text": [
      "Epoch 1/20\n",
      "40/40 [==============================] - 1s 34ms/step - loss: 0.5521 - accuracy: 0.7590 - val_loss: 0.4121 - val_accuracy: 0.8780\n",
      "Epoch 2/20\n",
      "40/40 [==============================] - 1s 28ms/step - loss: 0.3296 - accuracy: 0.8989 - val_loss: 0.2986 - val_accuracy: 0.8930\n",
      "Epoch 3/20\n",
      "40/40 [==============================] - 1s 28ms/step - loss: 0.2343 - accuracy: 0.9209 - val_loss: 0.2666 - val_accuracy: 0.8972\n",
      "Epoch 4/20\n",
      "40/40 [==============================] - 1s 28ms/step - loss: 0.1866 - accuracy: 0.9370 - val_loss: 0.2812 - val_accuracy: 0.8874\n",
      "Epoch 5/20\n",
      "40/40 [==============================] - 1s 29ms/step - loss: 0.1546 - accuracy: 0.9485 - val_loss: 0.2646 - val_accuracy: 0.8974\n",
      "Epoch 6/20\n",
      "40/40 [==============================] - 1s 28ms/step - loss: 0.1329 - accuracy: 0.9560 - val_loss: 0.2744 - val_accuracy: 0.8966\n",
      "Epoch 7/20\n",
      "40/40 [==============================] - 1s 29ms/step - loss: 0.1130 - accuracy: 0.9639 - val_loss: 0.2941 - val_accuracy: 0.8912\n",
      "Epoch 8/20\n",
      "40/40 [==============================] - 1s 29ms/step - loss: 0.0951 - accuracy: 0.9714 - val_loss: 0.3317 - val_accuracy: 0.8844\n",
      "Epoch 9/20\n",
      "40/40 [==============================] - 1s 28ms/step - loss: 0.0816 - accuracy: 0.9754 - val_loss: 0.3427 - val_accuracy: 0.8862\n",
      "Epoch 10/20\n",
      "40/40 [==============================] - 1s 29ms/step - loss: 0.0722 - accuracy: 0.9779 - val_loss: 0.3481 - val_accuracy: 0.8846\n",
      "Epoch 11/20\n",
      "40/40 [==============================] - 1s 29ms/step - loss: 0.0598 - accuracy: 0.9828 - val_loss: 0.4117 - val_accuracy: 0.8758\n",
      "Epoch 12/20\n",
      "40/40 [==============================] - 1s 29ms/step - loss: 0.0502 - accuracy: 0.9863 - val_loss: 0.4333 - val_accuracy: 0.8746\n",
      "Epoch 13/20\n",
      "40/40 [==============================] - 1s 29ms/step - loss: 0.0439 - accuracy: 0.9890 - val_loss: 0.4409 - val_accuracy: 0.8792\n",
      "Epoch 14/20\n",
      "40/40 [==============================] - 1s 28ms/step - loss: 0.0369 - accuracy: 0.9905 - val_loss: 0.4516 - val_accuracy: 0.8806\n",
      "Epoch 15/20\n",
      "40/40 [==============================] - 1s 29ms/step - loss: 0.0299 - accuracy: 0.9931 - val_loss: 0.4941 - val_accuracy: 0.8766\n",
      "Epoch 16/20\n",
      "40/40 [==============================] - 1s 28ms/step - loss: 0.0247 - accuracy: 0.9947 - val_loss: 0.5155 - val_accuracy: 0.8758\n",
      "Epoch 17/20\n",
      "40/40 [==============================] - 1s 29ms/step - loss: 0.0205 - accuracy: 0.9961 - val_loss: 0.6405 - val_accuracy: 0.8656\n",
      "Epoch 18/20\n",
      "40/40 [==============================] - 1s 29ms/step - loss: 0.0173 - accuracy: 0.9972 - val_loss: 0.5813 - val_accuracy: 0.8742\n",
      "Epoch 19/20\n",
      "40/40 [==============================] - 1s 28ms/step - loss: 0.0133 - accuracy: 0.9977 - val_loss: 0.6071 - val_accuracy: 0.8752\n",
      "Epoch 20/20\n",
      "40/40 [==============================] - 1s 29ms/step - loss: 0.0116 - accuracy: 0.9976 - val_loss: 0.6406 - val_accuracy: 0.8724\n"
     ]
    }
   ],
   "source": [
    "history = model.fit(x=X_train, y=Y_train, epochs=20, batch_size=512, validation_data=(X_val, Y_val))"
   ]
  },
  {
   "cell_type": "code",
   "execution_count": 8,
   "metadata": {
    "colab": {
     "base_uri": "https://localhost:8080/",
     "height": 52
    },
    "id": "RLttNgTM1XUz",
    "outputId": "d353c5b3-761a-46aa-b23f-039aa35fad55"
   },
   "outputs": [
    {
     "name": "stdout",
     "output_type": "stream",
     "text": [
      "782/782 [==============================] - 1s 2ms/step - loss: 0.7725 - accuracy: 0.8484\n"
     ]
    },
    {
     "data": {
      "text/plain": [
       "[0.7724671959877014, 0.8484399914741516]"
      ]
     },
     "execution_count": 8,
     "metadata": {
      "tags": []
     },
     "output_type": "execute_result"
    }
   ],
   "source": [
    "model.evaluate(X_test, Y_test)"
   ]
  },
  {
   "cell_type": "code",
   "execution_count": 17,
   "metadata": {
    "colab": {
     "base_uri": "https://localhost:8080/",
     "height": 279
    },
    "id": "JukgERta2Z0K",
    "outputId": "478448e8-b81a-4b41-d6e0-3f41e2ed0fee"
   },
   "outputs": [
    {
     "data": {
      "image/png": "[encoded data removed]",
      "text/plain": [
       "<Figure size 432x288 with 1 Axes>"
      ]
     },
     "metadata": {
      "needs_background": "light",
      "tags": []
     },
     "output_type": "display_data"
    }
   ],
   "source": [
    "history_dict = history.history\n",
    "acc, loss, val_acc, val_loss = history_dict['accuracy'], history_dict['loss'], history_dict['val_accuracy'], history_dict['val_loss']\n",
    "\n",
    "xaxis = range(0, len(acc))\n",
    "plt.plot(xaxis, acc, 'bo', label='Train')\n",
    "plt.plot(xaxis, val_acc, 'b', label='Validation')\n",
    "plt.xlabel('Epochs')\n",
    "plt.ylabel('Accuracy')\n",
    "plt.grid()\n",
    "plt.legend()\n",
    "plt.show()"
   ]
  },
  {
   "cell_type": "code",
   "execution_count": 18,
   "metadata": {
    "colab": {
     "base_uri": "https://localhost:8080/",
     "height": 279
    },
    "id": "Dr13KvjH5P7S",
    "outputId": "2452dd2a-75ee-4d5c-da54-550b1ec54594"
   },
   "outputs": [
    {
     "data": {
      "image/png": "[encoded data removed]",
      "text/plain": [
       "<Figure size 432x288 with 1 Axes>"
      ]
     },
     "metadata": {
      "needs_background": "light",
      "tags": []
     },
     "output_type": "display_data"
    }
   ],
   "source": [
    "xaxis = range(len(acc))\n",
    "plt.plot(xaxis, loss, 'bo', label='Train')\n",
    "plt.plot(xaxis, val_loss, 'b', label='Validation')\n",
    "plt.xlabel('Epochs')\n",
    "plt.ylabel('Loss')\n",
    "plt.grid()\n",
    "plt.legend()\n",
    "plt.show()"
   ]
  },
  {
   "cell_type": "markdown",
   "metadata": {
    "id": "gU0kNBSC-Fcm"
   },
   "source": [
    "The model starts to overfit after Epoch 4, so buildig a new model with 4 epochs."
   ]
  },
  {
   "cell_type": "code",
   "execution_count": 19,
   "metadata": {
    "colab": {
     "base_uri": "https://localhost:8080/",
     "height": 158
    },
    "id": "eBLUAzuI92nH",
    "outputId": "a18cde37-9163-4933-9d3c-b5626aebc94b"
   },
   "outputs": [
    {
     "name": "stdout",
     "output_type": "stream",
     "text": [
      "Epoch 1/4\n",
      "40/40 [==============================] - 1s 32ms/step - loss: 0.0101 - accuracy: 0.9977 - val_loss: 0.6733 - val_accuracy: 0.8706\n",
      "Epoch 2/4\n",
      "40/40 [==============================] - 1s 28ms/step - loss: 0.0057 - accuracy: 0.9995 - val_loss: 0.7102 - val_accuracy: 0.8710\n",
      "Epoch 3/4\n",
      "40/40 [==============================] - 1s 28ms/step - loss: 0.0064 - accuracy: 0.9988 - val_loss: 0.7518 - val_accuracy: 0.8688\n",
      "Epoch 4/4\n",
      "40/40 [==============================] - 1s 28ms/step - loss: 0.0077 - accuracy: 0.9980 - val_loss: 0.7763 - val_accuracy: 0.8688\n"
     ]
    }
   ],
   "source": [
    "model.fit(x=X_train, y=Y_train, epochs=4, batch_size=512, validation_data=(X_val, Y_val))"
   ]
  },
  {
   "cell_type": "code",
   "execution_count": 20,
   "metadata": {
    "colab": {
     "base_uri": "https://localhost:8080/",
     "height": 52
    },
    "id": "Dph_aUZ7-ZNE",
    "outputId": "8d668c82-523a-4401-ac77-c3025d546561"
   },
   "outputs": [
    {
     "name": "stdout",
     "output_type": "stream",
     "text": [
      "782/782 [==============================] - 2s 3ms/step - loss: 0.9302 - accuracy: 0.8457\n"
     ]
    },
    {
     "data": {
      "text/plain": [
       "[0.9302404522895813, 0.8457199931144714]"
      ]
     },
     "execution_count": 20,
     "metadata": {
      "tags": []
     },
     "output_type": "execute_result"
    }
   ],
   "source": [
    "model.evaluate(X_test, Y_test)"
   ]
  },
  {
   "cell_type": "markdown",
   "metadata": {
    "id": "oUqYsone_H3u"
   },
   "source": []
  },
  {
   "cell_type": "code",
   "execution_count": null,
   "metadata": {
    "id": "ar_XIgld-08V"
   },
   "outputs": [],
   "source": []
  }
 ],
 "metadata": {
  "colab": {
   "name": "DeepLearning - IMDB Review Classification.ipynb",
   "provenance": []
  },
  "kernelspec": {
   "display_name": "Python 3",
   "language": "python",
   "name": "python3"
  },
  "language_info": {
   "codemirror_mode": {
    "name": "ipython",
    "version": 3
   },
   "file_extension": ".py",
   "mimetype": "text/x-python",
   "name": "python",
   "nbconvert_exporter": "python",
   "pygments_lexer": "ipython3",
   "version": "3.7.4"
  }
 },
 "nbformat": 4,
 "nbformat_minor": 1
}
