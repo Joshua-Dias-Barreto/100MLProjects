{
  "nbformat": 4,
  "nbformat_minor": 0,
  "metadata": {
    "colab": {
      "name": "DeepLearning-Boston-Housing-Price-Detection.ipynb",
      "provenance": []
    },
    "kernelspec": {
      "name": "python3",
      "display_name": "Python 3"
    }
  },
  "cells": [
    {
      "cell_type": "markdown",
      "metadata": {
        "id": "ugWv5mA4HmF8"
      },
      "source": [
        "## Regression Model using Deep Learning\n",
        "\n",
        "Boston housing prices dataset is used for this implementation.\n",
        "For more info about this dataset checkout https://keras.io/api/datasets/boston_housing/"
      ]
    },
    {
      "cell_type": "code",
      "metadata": {
        "id": "fugtkJNlHYff"
      },
      "source": [
        "import numpy as np\n",
        "import pandas as pd\n",
        "import matplotlib.pyplot as plt\n",
        "from keras.datasets import boston_housing\n",
        "from keras import layers, models\n",
        "from sklearn.model_selection import KFold\n",
        "from sklearn.metrics import accuracy_score"
      ],
      "execution_count": 1,
      "outputs": []
    },
    {
      "cell_type": "code",
      "metadata": {
        "id": "ALWEGkxhIG2p",
        "outputId": "f45e7942-f893-4942-8a92-6b3d4c45f208",
        "colab": {
          "base_uri": "https://localhost:8080/",
          "height": 70
        }
      },
      "source": [
        "(train_data, train_labels), (test_data, test_labels) = boston_housing.load_data()\n",
        "\n",
        "print('Train Data Shape: {}, Test Data Shape: {}'.format(train_data.shape, test_data.shape))"
      ],
      "execution_count": 2,
      "outputs": [
        {
          "output_type": "stream",
          "text": [
            "Downloading data from https://storage.googleapis.com/tensorflow/tf-keras-datasets/boston_housing.npz\n",
            "57344/57026 [==============================] - 0s 0us/step\n",
            "Train Data Shape: (404, 13), Test Data Shape: (102, 13)\n"
          ],
          "name": "stdout"
        }
      ]
    },
    {
      "cell_type": "code",
      "metadata": {
        "id": "QXrSZVDzIi_P",
        "outputId": "ccbf0d48-3e09-4af4-bd52-3ed151e5c8ed",
        "colab": {
          "base_uri": "https://localhost:8080/",
          "height": 70
        }
      },
      "source": [
        "train_data[0]"
      ],
      "execution_count": 3,
      "outputs": [
        {
          "output_type": "execute_result",
          "data": {
            "text/plain": [
              "array([  1.23247,   0.     ,   8.14   ,   0.     ,   0.538  ,   6.142  ,\n",
              "        91.7    ,   3.9769 ,   4.     , 307.     ,  21.     , 396.9    ,\n",
              "        18.72   ])"
            ]
          },
          "metadata": {
            "tags": []
          },
          "execution_count": 3
        }
      ]
    },
    {
      "cell_type": "markdown",
      "metadata": {
        "id": "YE_zZ3N7JEmf"
      },
      "source": [
        "Normalizing the data"
      ]
    },
    {
      "cell_type": "code",
      "metadata": {
        "id": "T3IjS_xtIqR_",
        "outputId": "c9092eb3-4269-43b6-9294-60c70e069447",
        "colab": {
          "base_uri": "https://localhost:8080/",
          "height": 70
        }
      },
      "source": [
        "mean = train_data.mean(axis=0)\n",
        "train_data -= mean\n",
        "std = train_data.std(axis=0)\n",
        "train_data /= std\n",
        "\n",
        "test_data -= mean\n",
        "test_data /= std\n",
        "\n",
        "train_data[0]"
      ],
      "execution_count": 4,
      "outputs": [
        {
          "output_type": "execute_result",
          "data": {
            "text/plain": [
              "array([-0.27224633, -0.48361547, -0.43576161, -0.25683275, -0.1652266 ,\n",
              "       -0.1764426 ,  0.81306188,  0.1166983 , -0.62624905, -0.59517003,\n",
              "        1.14850044,  0.44807713,  0.8252202 ])"
            ]
          },
          "metadata": {
            "tags": []
          },
          "execution_count": 4
        }
      ]
    },
    {
      "cell_type": "markdown",
      "metadata": {
        "id": "e9TVwlOgJmYR"
      },
      "source": [
        "Building Neural Network"
      ]
    },
    {
      "cell_type": "code",
      "metadata": {
        "id": "tI87duWLJIp3"
      },
      "source": [
        "def build_model():\n",
        "  model = models.Sequential()\n",
        "  model.add(layers.Dense(64, activation='relu', input_shape=(train_data.shape[1],)))\n",
        "  model.add(layers.Dense(16, activation='relu'))\n",
        "  model.add(layers.Dense(1))\n",
        "  model.compile(optimizer='rmsprop', loss='mse', metrics=['mae'])\n",
        "  return model\n",
        "\n",
        "model = build_model()"
      ],
      "execution_count": 5,
      "outputs": []
    },
    {
      "cell_type": "code",
      "metadata": {
        "id": "ZlLFqaHdJJfY",
        "outputId": "44d0ad1f-d8d9-494f-9b37-fe0b287efb28",
        "colab": {
          "base_uri": "https://localhost:8080/",
          "height": 87
        }
      },
      "source": [
        "k = 4\n",
        "n_epochs = 100\n",
        "num_val_samples = len(train_data) // k\n",
        "all_scores = []\n",
        "\n",
        "for i in range(k):\n",
        "  print('Processing fold #' + str(i))\n",
        "  val_data = train_data[i*num_val_samples: (i+1)*num_val_samples]\n",
        "  val_labels = train_labels[i*num_val_samples: (i+1)*num_val_samples]\n",
        "\n",
        "  p_train = np.concatenate([train_data[:i*num_val_samples], train_data[(i+1)*num_val_samples:]], axis=0)\n",
        "  p_label = np.concatenate([train_labels[:i*num_val_samples], train_labels[(i+1)*num_val_samples:]], axis=0)\n",
        "\n",
        "  model = build_model()\n",
        "  model.fit(p_train, p_label, epochs=n_epochs, batch_size=1, verbose=0)\n",
        "  val_mse, val_mae = model.evaluate(val_data, val_labels, verbose=0)\n",
        "  all_scores.append(val_mae)"
      ],
      "execution_count": 6,
      "outputs": [
        {
          "output_type": "stream",
          "text": [
            "Processing fold #0\n",
            "Processing fold #1\n",
            "Processing fold #2\n",
            "Processing fold #3\n"
          ],
          "name": "stdout"
        }
      ]
    },
    {
      "cell_type": "code",
      "metadata": {
        "id": "gtGurxqgNuYV",
        "outputId": "6bdcb032-d6c3-419e-92be-32c38c20f7c7",
        "colab": {
          "base_uri": "https://localhost:8080/",
          "height": 34
        }
      },
      "source": [
        "all_scores"
      ],
      "execution_count": 10,
      "outputs": [
        {
          "output_type": "execute_result",
          "data": {
            "text/plain": [
              "[2.1103076934814453, 2.4193384647369385, 2.765873908996582, 2.179680585861206]"
            ]
          },
          "metadata": {
            "tags": []
          },
          "execution_count": 10
        }
      ]
    },
    {
      "cell_type": "code",
      "metadata": {
        "id": "GY7DqEgEOat0",
        "outputId": "9cea2af3-d7f0-4e79-ab41-4387105528f6",
        "colab": {
          "base_uri": "https://localhost:8080/",
          "height": 34
        }
      },
      "source": [
        "np.mean(all_scores)"
      ],
      "execution_count": 9,
      "outputs": [
        {
          "output_type": "execute_result",
          "data": {
            "text/plain": [
              "2.368800163269043"
            ]
          },
          "metadata": {
            "tags": []
          },
          "execution_count": 9
        }
      ]
    },
    {
      "cell_type": "code",
      "metadata": {
        "id": "wFRxiaT0OeHF",
        "outputId": "74984153-5a55-4bee-b89f-5fa2ad034315",
        "colab": {
          "base_uri": "https://localhost:8080/",
          "height": 87
        }
      },
      "source": [
        "n_epochs = 500\n",
        "all_mae_histories = []\n",
        "for i in range(k):\n",
        "  print('Processing fold #' + str(i))\n",
        "  val_data = train_data[i*num_val_samples: (i+1)*num_val_samples]\n",
        "  val_labels = train_labels[i*num_val_samples: (i+1)*num_val_samples]\n",
        "\n",
        "  p_train = np.concatenate([train_data[:i*num_val_samples], train_data[(i+1)*num_val_samples:]], axis=0)\n",
        "  p_label = np.concatenate([train_labels[:i*num_val_samples], train_labels[(i+1)*num_val_samples:]], axis=0)\n",
        "\n",
        "  model = build_model()\n",
        "  history = model.fit(p_train, p_label, epochs=n_epochs, validation_data=(val_data, val_labels), batch_size=1, verbose=0)\n",
        "  mae_history = history.history['val_mae']\n",
        "  all_mae_histories.append(mae_history)"
      ],
      "execution_count": 17,
      "outputs": [
        {
          "output_type": "stream",
          "text": [
            "Processing fold #0\n",
            "Processing fold #1\n",
            "Processing fold #2\n",
            "Processing fold #3\n"
          ],
          "name": "stdout"
        }
      ]
    },
    {
      "cell_type": "code",
      "metadata": {
        "id": "18EY1TwHQIUs",
        "outputId": "11b73e06-b5e4-470b-8e72-d1620083e48f",
        "colab": {
          "base_uri": "https://localhost:8080/",
          "height": 1000
        }
      },
      "source": [
        "average_mae_history = [np.mean([x[i] for x in all_mae_histories]) for i in range(n_epochs)]\n",
        "average_mae_history"
      ],
      "execution_count": 32,
      "outputs": [
        {
          "output_type": "execute_result",
          "data": {
            "text/plain": [
              "[6.5245667695999146,\n",
              " 3.95578670501709,\n",
              " 3.3163830637931824,\n",
              " 3.056258976459503,\n",
              " 2.957855522632599,\n",
              " 2.8968091011047363,\n",
              " 2.7563844323158264,\n",
              " 2.6658613681793213,\n",
              " 2.550699532032013,\n",
              " 2.647996962070465,\n",
              " 2.516738533973694,\n",
              " 2.4433013200759888,\n",
              " 2.4826367497444153,\n",
              " 2.5183061361312866,\n",
              " 2.4456689953804016,\n",
              " 2.4156845211982727,\n",
              " 2.3719789385795593,\n",
              " 2.4987354278564453,\n",
              " 2.381668746471405,\n",
              " 2.4583699703216553,\n",
              " 2.4568225145339966,\n",
              " 2.3637586534023285,\n",
              " 2.381525158882141,\n",
              " 2.3694424629211426,\n",
              " 2.4166552424430847,\n",
              " 2.3904942870140076,\n",
              " 2.436776280403137,\n",
              " 2.424078345298767,\n",
              " 2.3359756767749786,\n",
              " 2.407044231891632,\n",
              " 2.3917897045612335,\n",
              " 2.4686275720596313,\n",
              " 2.4099327325820923,\n",
              " 2.376586437225342,\n",
              " 2.291599452495575,\n",
              " 2.2848052382469177,\n",
              " 2.2905585765838623,\n",
              " 2.3899866938591003,\n",
              " 2.358231842517853,\n",
              " 2.2731942534446716,\n",
              " 2.3714415431022644,\n",
              " 2.4179248809814453,\n",
              " 2.3566988110542297,\n",
              " 2.3826370239257812,\n",
              " 2.2795754075050354,\n",
              " 2.400692880153656,\n",
              " 2.431674838066101,\n",
              " 2.296145737171173,\n",
              " 2.374696433544159,\n",
              " 2.356013834476471,\n",
              " 2.372418224811554,\n",
              " 2.431606411933899,\n",
              " 2.34424751996994,\n",
              " 2.2495696544647217,\n",
              " 2.3734331130981445,\n",
              " 2.237951636314392,\n",
              " 2.3159894347190857,\n",
              " 2.39475554227829,\n",
              " 2.2578680515289307,\n",
              " 2.3911924958229065,\n",
              " 2.396210253238678,\n",
              " 2.3289405405521393,\n",
              " 2.2817718386650085,\n",
              " 2.2825287878513336,\n",
              " 2.29434871673584,\n",
              " 2.268238067626953,\n",
              " 2.2642489075660706,\n",
              " 2.2336639761924744,\n",
              " 2.304686963558197,\n",
              " 2.270303964614868,\n",
              " 2.4137203097343445,\n",
              " 2.215063661336899,\n",
              " 2.323851227760315,\n",
              " 2.264487624168396,\n",
              " 2.3820533752441406,\n",
              " 2.291317880153656,\n",
              " 2.365834891796112,\n",
              " 2.2714651226997375,\n",
              " 2.3430830538272858,\n",
              " 2.3506983518600464,\n",
              " 2.3612276315689087,\n",
              " 2.388091206550598,\n",
              " 2.290410578250885,\n",
              " 2.3647103905677795,\n",
              " 2.295123338699341,\n",
              " 2.3388419151306152,\n",
              " 2.3462811708450317,\n",
              " 2.286886692047119,\n",
              " 2.3705421686172485,\n",
              " 2.4502997994422913,\n",
              " 2.2960947155952454,\n",
              " 2.444177985191345,\n",
              " 2.256899654865265,\n",
              " 2.2994678020477295,\n",
              " 2.33600115776062,\n",
              " 2.418155789375305,\n",
              " 2.3564984798431396,\n",
              " 2.360224962234497,\n",
              " 2.3249171376228333,\n",
              " 2.367505431175232,\n",
              " 2.428372383117676,\n",
              " 2.2503990530967712,\n",
              " 2.2517838776111603,\n",
              " 2.3995845913887024,\n",
              " 2.3479970693588257,\n",
              " 2.4043819308280945,\n",
              " 2.3082316517829895,\n",
              " 2.29995197057724,\n",
              " 2.293680429458618,\n",
              " 2.405813694000244,\n",
              " 2.351428508758545,\n",
              " 2.4238341450691223,\n",
              " 2.3706820607185364,\n",
              " 2.4401029348373413,\n",
              " 2.41913503408432,\n",
              " 2.3825228214263916,\n",
              " 2.4475359320640564,\n",
              " 2.3886895179748535,\n",
              " 2.3098623752593994,\n",
              " 2.374773621559143,\n",
              " 2.3654122352600098,\n",
              " 2.394964575767517,\n",
              " 2.370024263858795,\n",
              " 2.396662712097168,\n",
              " 2.329713225364685,\n",
              " 2.5005285143852234,\n",
              " 2.445496916770935,\n",
              " 2.3620245456695557,\n",
              " 2.3827252984046936,\n",
              " 2.4725101590156555,\n",
              " 2.5001361966133118,\n",
              " 2.5148133039474487,\n",
              " 2.413906455039978,\n",
              " 2.520902156829834,\n",
              " 2.414751946926117,\n",
              " 2.463268280029297,\n",
              " 2.4217072129249573,\n",
              " 2.47398978471756,\n",
              " 2.4536697268486023,\n",
              " 2.5189226269721985,\n",
              " 2.4625383019447327,\n",
              " 2.5402743220329285,\n",
              " 2.446111023426056,\n",
              " 2.5084548592567444,\n",
              " 2.4745600819587708,\n",
              " 2.4588852524757385,\n",
              " 2.5170888900756836,\n",
              " 2.5371243953704834,\n",
              " 2.4485108256340027,\n",
              " 2.4734068512916565,\n",
              " 2.4970248341560364,\n",
              " 2.442347466945648,\n",
              " 2.6422118544578552,\n",
              " 2.4175720810890198,\n",
              " 2.478282153606415,\n",
              " 2.435012638568878,\n",
              " 2.5627509355545044,\n",
              " 2.5298011302948,\n",
              " 2.5332690477371216,\n",
              " 2.5419070720672607,\n",
              " 2.4447020292282104,\n",
              " 2.529708206653595,\n",
              " 2.5229355096817017,\n",
              " 2.5391652584075928,\n",
              " 2.5524752736091614,\n",
              " 2.54233181476593,\n",
              " 2.4711928963661194,\n",
              " 2.497700333595276,\n",
              " 2.5367607474327087,\n",
              " 2.5042030215263367,\n",
              " 2.597851037979126,\n",
              " 2.49941486120224,\n",
              " 2.5172683000564575,\n",
              " 2.5063719153404236,\n",
              " 2.518404245376587,\n",
              " 2.5617735981941223,\n",
              " 2.579687237739563,\n",
              " 2.6517438888549805,\n",
              " 2.61967796087265,\n",
              " 2.56223326921463,\n",
              " 2.628819763660431,\n",
              " 2.6048152446746826,\n",
              " 2.5132184624671936,\n",
              " 2.529410719871521,\n",
              " 2.6696327328681946,\n",
              " 2.5596237778663635,\n",
              " 2.608875811100006,\n",
              " 2.6231618523597717,\n",
              " 2.5651549100875854,\n",
              " 2.5601479411125183,\n",
              " 2.495949864387512,\n",
              " 2.6835429072380066,\n",
              " 2.5853838324546814,\n",
              " 2.5744075179100037,\n",
              " 2.637237012386322,\n",
              " 2.600475490093231,\n",
              " 2.506924629211426,\n",
              " 2.5498522520065308,\n",
              " 2.59737092256546,\n",
              " 2.667470693588257,\n",
              " 2.6040918231010437,\n",
              " 2.5460610389709473,\n",
              " 2.610353469848633,\n",
              " 2.593940556049347,\n",
              " 2.6029688715934753,\n",
              " 2.6149516701698303,\n",
              " 2.689189851284027,\n",
              " 2.4697691798210144,\n",
              " 2.68412321805954,\n",
              " 2.6075004935264587,\n",
              " 2.6231517791748047,\n",
              " 2.5537590980529785,\n",
              " 2.5654595494270325,\n",
              " 2.583031415939331,\n",
              " 2.5972638726234436,\n",
              " 2.5742961764335632,\n",
              " 2.6812023520469666,\n",
              " 2.6642701029777527,\n",
              " 2.5621355772018433,\n",
              " 2.645256459712982,\n",
              " 2.5702489614486694,\n",
              " 2.5578354597091675,\n",
              " 2.642784833908081,\n",
              " 2.6016291975975037,\n",
              " 2.610280454158783,\n",
              " 2.6733418107032776,\n",
              " 2.5721741318702698,\n",
              " 2.72443687915802,\n",
              " 2.686882793903351,\n",
              " 2.583058536052704,\n",
              " 2.724179208278656,\n",
              " 2.546518564224243,\n",
              " 2.6469885110855103,\n",
              " 2.650083899497986,\n",
              " 2.705238699913025,\n",
              " 2.6537546515464783,\n",
              " 2.6409725546836853,\n",
              " 2.5753315091133118,\n",
              " 2.665578782558441,\n",
              " 2.616823136806488,\n",
              " 2.7281418442726135,\n",
              " 2.556033730506897,\n",
              " 2.6123148798942566,\n",
              " 2.658701181411743,\n",
              " 2.6396507024765015,\n",
              " 2.6617528796195984,\n",
              " 2.61481249332428,\n",
              " 2.6337838172912598,\n",
              " 2.656246840953827,\n",
              " 2.6629703044891357,\n",
              " 2.6741841435432434,\n",
              " 2.6676902174949646,\n",
              " 2.631213963031769,\n",
              " 2.6619797945022583,\n",
              " 2.6150782108306885,\n",
              " 2.636002480983734,\n",
              " 2.7163766622543335,\n",
              " 2.726005792617798,\n",
              " 2.7208452820777893,\n",
              " 2.7049681544303894,\n",
              " 2.665248453617096,\n",
              " 2.6880884766578674,\n",
              " 2.6839292645454407,\n",
              " 2.6728768348693848,\n",
              " 2.6075956225395203,\n",
              " 2.700838625431061,\n",
              " 2.648630678653717,\n",
              " 2.7219536304473877,\n",
              " 2.671939492225647,\n",
              " 2.765748977661133,\n",
              " 2.6555556654930115,\n",
              " 2.700616776943207,\n",
              " 2.7010297775268555,\n",
              " 2.69426029920578,\n",
              " 2.6673646569252014,\n",
              " 2.695215880870819,\n",
              " 2.74028217792511,\n",
              " 2.6828810572624207,\n",
              " 2.7443512082099915,\n",
              " 2.718088388442993,\n",
              " 2.7035343647003174,\n",
              " 2.8237484097480774,\n",
              " 2.6086761355400085,\n",
              " 2.7693232893943787,\n",
              " 2.6428073048591614,\n",
              " 2.859534442424774,\n",
              " 2.700411081314087,\n",
              " 2.722657799720764,\n",
              " 2.688165545463562,\n",
              " 2.8384804129600525,\n",
              " 2.6310922503471375,\n",
              " 2.697782516479492,\n",
              " 2.821047365665436,\n",
              " 2.6845427751541138,\n",
              " 2.706981897354126,\n",
              " 2.747723162174225,\n",
              " 2.734371304512024,\n",
              " 2.8125240802764893,\n",
              " 2.7153268456459045,\n",
              " 2.862480580806732,\n",
              " 2.7279810905456543,\n",
              " 2.736913502216339,\n",
              " 2.899447739124298,\n",
              " 2.700766444206238,\n",
              " 2.7456586956977844,\n",
              " 2.784580409526825,\n",
              " 2.6896597743034363,\n",
              " 2.7255216240882874,\n",
              " 2.7176429629325867,\n",
              " 2.656303286552429,\n",
              " 2.7316799759864807,\n",
              " 2.69211882352829,\n",
              " 2.6551564931869507,\n",
              " 2.6691590547561646,\n",
              " 2.689389705657959,\n",
              " 2.7870181798934937,\n",
              " 2.706128716468811,\n",
              " 2.762749969959259,\n",
              " 2.737382709980011,\n",
              " 2.751261293888092,\n",
              " 2.760483205318451,\n",
              " 2.7524552941322327,\n",
              " 2.7976073622703552,\n",
              " 2.7754597067832947,\n",
              " 2.7236950397491455,\n",
              " 2.7832804322242737,\n",
              " 2.736711025238037,\n",
              " 2.7701120376586914,\n",
              " 2.813785493373871,\n",
              " 2.7438456416130066,\n",
              " 2.787569999694824,\n",
              " 2.708723485469818,\n",
              " 2.7207924723625183,\n",
              " 2.706853449344635,\n",
              " 2.7480412125587463,\n",
              " 2.684104323387146,\n",
              " 2.812713325023651,\n",
              " 2.763586461544037,\n",
              " 2.688478469848633,\n",
              " 2.713910162448883,\n",
              " 2.751188337802887,\n",
              " 2.748994767665863,\n",
              " 2.8769887685775757,\n",
              " 2.781179666519165,\n",
              " 2.762077212333679,\n",
              " 2.78915536403656,\n",
              " 2.784521758556366,\n",
              " 2.841331958770752,\n",
              " 2.851386249065399,\n",
              " 2.718622386455536,\n",
              " 2.761514186859131,\n",
              " 2.7175727486610413,\n",
              " 2.740348219871521,\n",
              " 2.759403884410858,\n",
              " 2.753215253353119,\n",
              " 2.837481200695038,\n",
              " 2.8386831879615784,\n",
              " 2.7107784152030945,\n",
              " 2.749242424964905,\n",
              " 2.8457972407341003,\n",
              " 2.7252541184425354,\n",
              " 2.7910053730010986,\n",
              " 2.779701590538025,\n",
              " 2.81420236825943,\n",
              " 2.850882411003113,\n",
              " 2.785937011241913,\n",
              " 2.801244616508484,\n",
              " 2.898466169834137,\n",
              " 2.819905996322632,\n",
              " 2.7783005833625793,\n",
              " 2.766106069087982,\n",
              " 2.7290359139442444,\n",
              " 2.7783058285713196,\n",
              " 2.9506179094314575,\n",
              " 2.8105905055999756,\n",
              " 2.8456637263298035,\n",
              " 2.820408046245575,\n",
              " 2.764749765396118,\n",
              " 2.884278357028961,\n",
              " 2.7957820892333984,\n",
              " 2.7796493768692017,\n",
              " 2.713098704814911,\n",
              " 2.8696194887161255,\n",
              " 2.824892044067383,\n",
              " 2.770836114883423,\n",
              " 2.71725857257843,\n",
              " 2.8693807721138,\n",
              " 2.7915422320365906,\n",
              " 2.8737380504608154,\n",
              " 2.8751860857009888,\n",
              " 2.7901957035064697,\n",
              " 2.863665521144867,\n",
              " 2.751969277858734,\n",
              " 2.847541570663452,\n",
              " 2.7625681161880493,\n",
              " 2.8012840151786804,\n",
              " 2.917402744293213,\n",
              " 2.7747636437416077,\n",
              " 2.8268856406211853,\n",
              " 2.7361722588539124,\n",
              " 2.7821707725524902,\n",
              " 2.8817663192749023,\n",
              " 2.7569549679756165,\n",
              " 2.7469311952590942,\n",
              " 2.7444835901260376,\n",
              " 2.794833481311798,\n",
              " 2.895467519760132,\n",
              " 2.804856598377228,\n",
              " 2.83555406332016,\n",
              " 2.795846700668335,\n",
              " 2.9452598094940186,\n",
              " 2.804003357887268,\n",
              " 2.851115047931671,\n",
              " 2.8735758662223816,\n",
              " 2.7881473898887634,\n",
              " 2.821540117263794,\n",
              " 2.811588704586029,\n",
              " 2.8574108481407166,\n",
              " 2.7490535378456116,\n",
              " 2.812891721725464,\n",
              " 2.7717087864875793,\n",
              " 2.8096539974212646,\n",
              " 2.7662353515625,\n",
              " 2.768283188343048,\n",
              " 2.820564329624176,\n",
              " 2.849124252796173,\n",
              " 2.8686346411705017,\n",
              " 2.7958362698554993,\n",
              " 2.9104743599891663,\n",
              " 2.7795567512512207,\n",
              " 2.804819345474243,\n",
              " 2.7775776386260986,\n",
              " 2.8762176632881165,\n",
              " 2.784753918647766,\n",
              " 2.7902485728263855,\n",
              " 2.7642515897750854,\n",
              " 2.837171256542206,\n",
              " 2.770122230052948,\n",
              " 2.7681241631507874,\n",
              " 2.788711130619049,\n",
              " 2.8156829476356506,\n",
              " 2.7953609824180603,\n",
              " 2.7981098890304565,\n",
              " 2.8201403617858887,\n",
              " 2.80907666683197,\n",
              " 2.816462516784668,\n",
              " 2.7840205430984497,\n",
              " 2.766644835472107,\n",
              " 2.788431406021118,\n",
              " 2.759606957435608,\n",
              " 2.801299035549164,\n",
              " 2.7312300205230713,\n",
              " 2.815166652202606,\n",
              " 2.848121702671051,\n",
              " 2.897059977054596,\n",
              " 2.774048626422882,\n",
              " 2.805209696292877,\n",
              " 2.8231913447380066,\n",
              " 2.9105648398399353,\n",
              " 2.824428975582123,\n",
              " 2.8615700602531433,\n",
              " 3.0328351855278015,\n",
              " 2.7192752361297607,\n",
              " 2.8514352440834045,\n",
              " 2.857490122318268,\n",
              " 2.7775721549987793,\n",
              " 2.845374047756195,\n",
              " 2.832981765270233,\n",
              " 2.8603747487068176,\n",
              " 2.9953799843788147,\n",
              " 2.8692867755889893,\n",
              " 2.7776734828948975,\n",
              " 2.888750374317169,\n",
              " 2.8584203720092773,\n",
              " 2.8143965005874634,\n",
              " 2.8505045771598816,\n",
              " 2.792166292667389,\n",
              " 2.8368799686431885,\n",
              " 2.952087104320526,\n",
              " 2.8413843512535095,\n",
              " 2.782714545726776,\n",
              " 2.8467520475387573,\n",
              " 2.8187378644943237,\n",
              " 2.8230400681495667,\n",
              " 2.816926598548889,\n",
              " 2.8965653777122498,\n",
              " 2.7965850830078125,\n",
              " 2.7855709195137024,\n",
              " 2.8467193245887756,\n",
              " 2.8503134846687317,\n",
              " 2.8734907507896423,\n",
              " 2.9662855863571167,\n",
              " 2.829941749572754,\n",
              " 2.8184013962745667,\n",
              " 2.8089242577552795,\n",
              " 2.822112798690796,\n",
              " 2.846636712551117,\n",
              " 2.840559959411621,\n",
              " 2.9179807901382446,\n",
              " 2.8148381114006042]"
            ]
          },
          "metadata": {
            "tags": []
          },
          "execution_count": 32
        }
      ]
    },
    {
      "cell_type": "code",
      "metadata": {
        "id": "sfMyIoe9RJYD",
        "outputId": "e6126f3e-f65a-4e46-8993-78d1cf96188b",
        "colab": {
          "base_uri": "https://localhost:8080/",
          "height": 279
        }
      },
      "source": [
        "plt.plot(range(1, len(average_mae_history)+1), average_mae_history)\n",
        "plt.xlabel('Epochs')\n",
        "plt.ylabel('Validation MAE')\n",
        "plt.show()"
      ],
      "execution_count": 33,
      "outputs": [
        {
          "output_type": "display_data",
          "data": {
            "image/png": "[encoded data removed]",
            "text/plain": [
              "<Figure size 432x288 with 1 Axes>"
            ]
          },
          "metadata": {
            "tags": [],
            "needs_background": "light"
          }
        }
      ]
    },
    {
      "cell_type": "code",
      "metadata": {
        "id": "yIfF--G3a-1w",
        "outputId": "802f2d60-6c75-4212-bf6c-e21ac7fb90d4",
        "colab": {
          "base_uri": "https://localhost:8080/",
          "height": 52
        }
      },
      "source": [
        "model = build_model()\n",
        "model.fit(train_data, train_labels, epochs=80, batch_size=16, verbose=0)\n",
        "test_mse, test_mae = model.evaluate(test_data, test_labels)\n",
        "test_mae"
      ],
      "execution_count": 36,
      "outputs": [
        {
          "output_type": "stream",
          "text": [
            "4/4 [==============================] - 0s 2ms/step - loss: 19.5480 - mae: 2.7232\n"
          ],
          "name": "stdout"
        },
        {
          "output_type": "execute_result",
          "data": {
            "text/plain": [
              "2.7232139110565186"
            ]
          },
          "metadata": {
            "tags": []
          },
          "execution_count": 36
        }
      ]
    },
    {
      "cell_type": "markdown",
      "metadata": {
        "id": "jKhcNBnDdA68"
      },
      "source": [
        "Based on MAE test scores, the prediction is off by about $2723"
      ]
    }
  ]
}