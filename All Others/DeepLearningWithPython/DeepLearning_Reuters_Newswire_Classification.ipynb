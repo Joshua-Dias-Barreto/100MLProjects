{
  "nbformat": 4,
  "nbformat_minor": 0,
  "metadata": {
    "colab": {
      "name": "DeepLearning - Reuters Newswire Classification.ipynb",
      "provenance": []
    },
    "kernelspec": {
      "name": "python3",
      "display_name": "Python 3"
    }
  },
  "cells": [
    {
      "cell_type": "markdown",
      "metadata": {
        "id": "oBUh7tM0HC4i"
      },
      "source": [
        "## Multi Model Classification using Deep Learning\n",
        "\n",
        "Reuters dataset has 46 labelled classes, which is used to create a multi model classification neural network model."
      ]
    },
    {
      "cell_type": "code",
      "metadata": {
        "id": "pYiC0IaH_qc_"
      },
      "source": [
        "import numpy as np\n",
        "import pandas as pd\n",
        "import matplotlib.pyplot as plt\n",
        "from keras import layers, models\n",
        "from keras.datasets import reuters\n",
        "from sklearn.model_selection import train_test_split\n",
        "from sklearn.metrics import accuracy_score"
      ],
      "execution_count": 2,
      "outputs": []
    },
    {
      "cell_type": "code",
      "metadata": {
        "id": "ZeRA_o68AHJP",
        "outputId": "08a765c6-af22-44bd-8de9-aaab8d9a14b0",
        "colab": {
          "base_uri": "https://localhost:8080/",
          "height": 70
        }
      },
      "source": [
        "(train_data, train_labels), (test_data, test_labels) = reuters.load_data(num_words=10000)\n",
        "\n",
        "print('Train data size: {}, Test data size: {}'.format(len(train_data), len(test_data)))"
      ],
      "execution_count": 3,
      "outputs": [
        {
          "output_type": "stream",
          "text": [
            "Downloading data from https://storage.googleapis.com/tensorflow/tf-keras-datasets/reuters.npz\n",
            "2113536/2110848 [==============================] - 0s 0us/step\n",
            "Train data size: 8982, Test data size: 2246\n"
          ],
          "name": "stdout"
        }
      ]
    },
    {
      "cell_type": "code",
      "metadata": {
        "id": "8ijDJwQgAwiC",
        "outputId": "a19c30ce-788b-40b3-9ef7-47e35a15d299",
        "colab": {
          "base_uri": "https://localhost:8080/",
          "height": 70
        }
      },
      "source": [
        "np.unique(train_labels)"
      ],
      "execution_count": 9,
      "outputs": [
        {
          "output_type": "execute_result",
          "data": {
            "text/plain": [
              "array([ 0,  1,  2,  3,  4,  5,  6,  7,  8,  9, 10, 11, 12, 13, 14, 15, 16,\n",
              "       17, 18, 19, 20, 21, 22, 23, 24, 25, 26, 27, 28, 29, 30, 31, 32, 33,\n",
              "       34, 35, 36, 37, 38, 39, 40, 41, 42, 43, 44, 45])"
            ]
          },
          "metadata": {
            "tags": []
          },
          "execution_count": 9
        }
      ]
    },
    {
      "cell_type": "markdown",
      "metadata": {
        "id": "KnoM_c3mAs0z"
      },
      "source": [
        "PreProcess data"
      ]
    },
    {
      "cell_type": "code",
      "metadata": {
        "id": "JXooHjFpAflE"
      },
      "source": [
        "def vectorize(sequences, dimension=10000):\n",
        "  result = np.zeros((len(sequences), dimension))\n",
        "  for i, sequence in enumerate(sequences):\n",
        "    result[i, sequence] = 1\n",
        "  return result\n",
        "\n",
        "train_data_encoded = vectorize(train_data)\n",
        "train_labels_encoded = vectorize(train_labels, dimension=46)\n",
        "X_test = vectorize(test_data)\n",
        "y_test = vectorize(test_labels, dimension=46)\n",
        "\n",
        "X_train, X_val, y_train, y_val = train_test_split(train_data_encoded, train_labels_encoded, test_size=0.2, random_state=0)"
      ],
      "execution_count": 17,
      "outputs": []
    },
    {
      "cell_type": "markdown",
      "metadata": {
        "id": "VQSlcmP1B4Ks"
      },
      "source": [
        "Build a Sequential Neural Network"
      ]
    },
    {
      "cell_type": "code",
      "metadata": {
        "id": "J96F6hTVAkNM"
      },
      "source": [
        "def build_model():\n",
        "  model = models.Sequential()\n",
        "  model.add(layers.Dense(64, activation='relu', input_shape=(10000,)))\n",
        "  model.add(layers.Dense(64, activation='relu'))\n",
        "  model.add(layers.Dense(46, activation='softmax'))\n",
        "  return model\n",
        "\n",
        "model = build_model()\n",
        "model.compile(optimizer='rmsprop', loss='categorical_crossentropy', metrics=['accuracy'])"
      ],
      "execution_count": 16,
      "outputs": []
    },
    {
      "cell_type": "code",
      "metadata": {
        "id": "Xdghx46wDIP8",
        "outputId": "a4de64b3-87be-40d3-9e5c-eb5a5032ea51",
        "colab": {
          "base_uri": "https://localhost:8080/",
          "height": 721
        }
      },
      "source": [
        "history = model.fit(X_train, y_train, epochs=20, batch_size=512, validation_data=(X_val, y_val))"
      ],
      "execution_count": 18,
      "outputs": [
        {
          "output_type": "stream",
          "text": [
            "Epoch 1/20\n",
            "15/15 [==============================] - 1s 52ms/step - loss: 2.7299 - accuracy: 0.4963 - val_loss: 1.8143 - val_accuracy: 0.6505\n",
            "Epoch 2/20\n",
            "15/15 [==============================] - 1s 41ms/step - loss: 1.4619 - accuracy: 0.7066 - val_loss: 1.3790 - val_accuracy: 0.7006\n",
            "Epoch 3/20\n",
            "15/15 [==============================] - 1s 41ms/step - loss: 1.0790 - accuracy: 0.7755 - val_loss: 1.1997 - val_accuracy: 0.7373\n",
            "Epoch 4/20\n",
            "15/15 [==============================] - 1s 41ms/step - loss: 0.8675 - accuracy: 0.8154 - val_loss: 1.1049 - val_accuracy: 0.7518\n",
            "Epoch 5/20\n",
            "15/15 [==============================] - 1s 41ms/step - loss: 0.7032 - accuracy: 0.8498 - val_loss: 1.0584 - val_accuracy: 0.7724\n",
            "Epoch 6/20\n",
            "15/15 [==============================] - 1s 41ms/step - loss: 0.5715 - accuracy: 0.8803 - val_loss: 0.9994 - val_accuracy: 0.7919\n",
            "Epoch 7/20\n",
            "15/15 [==============================] - 1s 41ms/step - loss: 0.4650 - accuracy: 0.9037 - val_loss: 0.9796 - val_accuracy: 0.7835\n",
            "Epoch 8/20\n",
            "15/15 [==============================] - 1s 41ms/step - loss: 0.3802 - accuracy: 0.9207 - val_loss: 0.9859 - val_accuracy: 0.7885\n",
            "Epoch 9/20\n",
            "15/15 [==============================] - 1s 41ms/step - loss: 0.3142 - accuracy: 0.9358 - val_loss: 0.9464 - val_accuracy: 0.7986\n",
            "Epoch 10/20\n",
            "15/15 [==============================] - 1s 43ms/step - loss: 0.2649 - accuracy: 0.9438 - val_loss: 0.9576 - val_accuracy: 0.8030\n",
            "Epoch 11/20\n",
            "15/15 [==============================] - 1s 40ms/step - loss: 0.2281 - accuracy: 0.9484 - val_loss: 1.1221 - val_accuracy: 0.7679\n",
            "Epoch 12/20\n",
            "15/15 [==============================] - 1s 40ms/step - loss: 0.1937 - accuracy: 0.9538 - val_loss: 1.2483 - val_accuracy: 0.7362\n",
            "Epoch 13/20\n",
            "15/15 [==============================] - 1s 41ms/step - loss: 0.1795 - accuracy: 0.9531 - val_loss: 0.9835 - val_accuracy: 0.8086\n",
            "Epoch 14/20\n",
            "15/15 [==============================] - 1s 41ms/step - loss: 0.1567 - accuracy: 0.9549 - val_loss: 0.9985 - val_accuracy: 0.8063\n",
            "Epoch 15/20\n",
            "15/15 [==============================] - 1s 41ms/step - loss: 0.1413 - accuracy: 0.9573 - val_loss: 1.0350 - val_accuracy: 0.8086\n",
            "Epoch 16/20\n",
            "15/15 [==============================] - 1s 41ms/step - loss: 0.1379 - accuracy: 0.9584 - val_loss: 1.0387 - val_accuracy: 0.8086\n",
            "Epoch 17/20\n",
            "15/15 [==============================] - 1s 41ms/step - loss: 0.1272 - accuracy: 0.9580 - val_loss: 1.1333 - val_accuracy: 0.7974\n",
            "Epoch 18/20\n",
            "15/15 [==============================] - 1s 41ms/step - loss: 0.1209 - accuracy: 0.9602 - val_loss: 1.0920 - val_accuracy: 0.8019\n",
            "Epoch 19/20\n",
            "15/15 [==============================] - 1s 42ms/step - loss: 0.1155 - accuracy: 0.9589 - val_loss: 1.1986 - val_accuracy: 0.7763\n",
            "Epoch 20/20\n",
            "15/15 [==============================] - 1s 40ms/step - loss: 0.1099 - accuracy: 0.9599 - val_loss: 1.0916 - val_accuracy: 0.8041\n"
          ],
          "name": "stdout"
        }
      ]
    },
    {
      "cell_type": "code",
      "metadata": {
        "id": "uLajQkfgEA1L",
        "outputId": "126162b9-874a-43f1-bf3e-f250f02a7621",
        "colab": {
          "base_uri": "https://localhost:8080/",
          "height": 350
        }
      },
      "source": [
        "history_dict = history.history\n",
        "acc = history_dict['accuracy']\n",
        "val_acc = history_dict['val_accuracy']\n",
        "ax = range(0, len(acc))\n",
        "c\n",
        "plt.plot(ax, acc, 'bo', label='Training')\n",
        "plt.plot(ax, val_acc, 'b', label='Validation')\n",
        "plt.title('Accuracy')\n",
        "plt.xlabel('Epoch')\n",
        "plt.ylabel('Accuracy')\n",
        "plt.grid()\n",
        "plt.legend()\n",
        "plt.show()"
      ],
      "execution_count": 25,
      "outputs": [
        {
          "output_type": "display_data",
          "data": {
            "image/png": "[encoded data removed]",
            "text/plain": [
              "<Figure size 576x360 with 1 Axes>"
            ]
          },
          "metadata": {
            "tags": [],
            "needs_background": "light"
          }
        }
      ]
    },
    {
      "cell_type": "code",
      "metadata": {
        "id": "SQe-tsbsEOZj",
        "outputId": "de3afc60-5613-40e2-85d7-56eebb0a0600",
        "colab": {
          "base_uri": "https://localhost:8080/",
          "height": 404
        }
      },
      "source": [
        "loss = history_dict['loss']\n",
        "val_loss = history_dict['val_loss']\n",
        "ax = range(0, len(acc))\n",
        "plt.figure(figsize=(9,6))\n",
        "plt.plot(ax, loss, 'bo', label='Training')\n",
        "plt.plot(ax, val_loss, 'b', label='Validation')\n",
        "plt.title('Loss')\n",
        "plt.xlabel('Epoch')\n",
        "plt.ylabel('Loss')\n",
        "plt.grid()\n",
        "plt.legend()\n",
        "plt.show()"
      ],
      "execution_count": 28,
      "outputs": [
        {
          "output_type": "display_data",
          "data": {
            "image/png": "[encoded data removed]",
            "text/plain": [
              "<Figure size 648x432 with 1 Axes>"
            ]
          },
          "metadata": {
            "tags": [],
            "needs_background": "light"
          }
        }
      ]
    },
    {
      "cell_type": "markdown",
      "metadata": {
        "id": "TQU5fLf7GbDg"
      },
      "source": [
        "Epoch 9 performs better here"
      ]
    },
    {
      "cell_type": "code",
      "metadata": {
        "id": "f7NV3GZ9FBfZ",
        "outputId": "d223222c-4163-442f-fee8-c26fb56627ff",
        "colab": {
          "base_uri": "https://localhost:8080/",
          "height": 369
        }
      },
      "source": [
        "model.fit(X_train, y_train, epochs=9, batch_size=512, validation_data=(X_val, y_val))\n",
        "model.evaluate(X_test, y_test)"
      ],
      "execution_count": 31,
      "outputs": [
        {
          "output_type": "stream",
          "text": [
            "Epoch 1/9\n",
            "15/15 [==============================] - 1s 44ms/step - loss: 0.1079 - accuracy: 0.9595 - val_loss: 1.1549 - val_accuracy: 0.8036\n",
            "Epoch 2/9\n",
            "15/15 [==============================] - 1s 41ms/step - loss: 0.1028 - accuracy: 0.9624 - val_loss: 1.1399 - val_accuracy: 0.8069\n",
            "Epoch 3/9\n",
            "15/15 [==============================] - 1s 41ms/step - loss: 0.1009 - accuracy: 0.9596 - val_loss: 1.2691 - val_accuracy: 0.7896\n",
            "Epoch 4/9\n",
            "15/15 [==============================] - 1s 41ms/step - loss: 0.1011 - accuracy: 0.9626 - val_loss: 1.1610 - val_accuracy: 0.8013\n",
            "Epoch 5/9\n",
            "15/15 [==============================] - 1s 40ms/step - loss: 0.0982 - accuracy: 0.9619 - val_loss: 1.2557 - val_accuracy: 0.7930\n",
            "Epoch 6/9\n",
            "15/15 [==============================] - 1s 41ms/step - loss: 0.0982 - accuracy: 0.9596 - val_loss: 1.3671 - val_accuracy: 0.7835\n",
            "Epoch 7/9\n",
            "15/15 [==============================] - 1s 41ms/step - loss: 0.0936 - accuracy: 0.9613 - val_loss: 1.2549 - val_accuracy: 0.8041\n",
            "Epoch 8/9\n",
            "15/15 [==============================] - 1s 40ms/step - loss: 0.0920 - accuracy: 0.9620 - val_loss: 1.2290 - val_accuracy: 0.8047\n",
            "Epoch 9/9\n",
            "15/15 [==============================] - 1s 40ms/step - loss: 0.0926 - accuracy: 0.9609 - val_loss: 1.2777 - val_accuracy: 0.8008\n",
            "71/71 [==============================] - 0s 2ms/step - loss: 1.3271 - accuracy: 0.7845\n"
          ],
          "name": "stdout"
        },
        {
          "output_type": "execute_result",
          "data": {
            "text/plain": [
              "[1.3271067142486572, 0.7845057845115662]"
            ]
          },
          "metadata": {
            "tags": []
          },
          "execution_count": 31
        }
      ]
    },
    {
      "cell_type": "markdown",
      "metadata": {
        "id": "dYaYgUS_G2-Z"
      },
      "source": [
        "This model has produced 78% accuracy while evaluated using the test data\n",
        "\n",
        "There is still room for improvements\n"
      ]
    }
  ]
}