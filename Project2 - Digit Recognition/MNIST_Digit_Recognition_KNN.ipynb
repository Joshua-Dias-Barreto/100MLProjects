{
  "nbformat": 4,
  "nbformat_minor": 0,
  "metadata": {
    "kernelspec": {
      "display_name": "Python 3",
      "language": "python",
      "name": "python3"
    },
    "language_info": {
      "codemirror_mode": {
        "name": "ipython",
        "version": 3
      },
      "file_extension": ".py",
      "mimetype": "text/x-python",
      "name": "python",
      "nbconvert_exporter": "python",
      "pygments_lexer": "ipython3",
      "version": "3.7.4"
    },
    "colab": {
      "name": "MNIST Digit Recognition - KNN.ipynb",
      "provenance": [],
      "collapsed_sections": [],
      "toc_visible": true,
      "include_colab_link": true
    }
  },
  "cells": [
    {
      "cell_type": "markdown",
      "metadata": {
        "id": "view-in-github",
        "colab_type": "text"
      },
      "source": [
        "<a href=\"https://colab.research.google.com/github/laxmena/100MLProjects/blob/master/Project2%20-%20Digit%20Recognition/MNIST_Digit_Recognition_KNN.ipynb\" target=\"_parent\"><img src=\"https://colab.research.google.com/assets/colab-badge.svg\" alt=\"Open In Colab\"/></a>"
      ]
    },
    {
      "cell_type": "markdown",
      "metadata": {
        "id": "WsYJUK0_66uW",
        "colab_type": "text"
      },
      "source": [
        "# Challenge2: MNIST Digit Recognition | #100MLProjects | #Laxmena\n",
        "\n",
        "**Author: Lakshmanan Meiyappan**\n",
        "\n",
        "100MLProjects Pre Project Update: [Blog: Challenge-2 MNIST Digit Recognition](https://medium.com/@laxmena/project2-of-100mlprojetcs-classification-mnist-digit-recognition-d9208856f1f2)\n",
        "\n",
        "- LinkedIn: https://www.linkedin.com/in/lakshmanan-meiyappan/\n",
        "- Github: https://github.com/laxmena/"
      ]
    },
    {
      "cell_type": "markdown",
      "metadata": {
        "id": "SsW1gJaq3D04",
        "colab_type": "text"
      },
      "source": [
        "## K-Nearest Neighbors\n",
        "- Scikit Learn\n",
        "- Custom Knn Algorithm"
      ]
    },
    {
      "cell_type": "code",
      "metadata": {
        "id": "wRn6Act866ua",
        "colab_type": "code",
        "colab": {}
      },
      "source": [
        "import numpy as np\n",
        "import pandas as pd\n",
        "import matplotlib.pyplot as plt"
      ],
      "execution_count": 0,
      "outputs": []
    },
    {
      "cell_type": "markdown",
      "metadata": {
        "id": "kUeYf3xy66ul",
        "colab_type": "text"
      },
      "source": [
        "## Load MNIST Dataset"
      ]
    },
    {
      "cell_type": "markdown",
      "metadata": {
        "id": "saBHAoqF66um",
        "colab_type": "text"
      },
      "source": [
        "MNIST Dataset can be found here: http://yann.lecun.com/exdb/mnist/\n",
        "\n",
        "File names of Training and Test sets:\n",
        "\n",
        "- train-images-idx3-ubyte.gz -  training set images (9912422 bytes)\n",
        "- train-labels-idx1-ubyte.gz -  training set labels (28881 bytes)\n",
        "- t10k-images-idx3-ubyte.gz  -  test set images (1648877 bytes)\n",
        "- t10k-labels-idx1-ubyte.gz  -  test set labels (4542 bytes)\n"
      ]
    },
    {
      "cell_type": "markdown",
      "metadata": {
        "id": "EGF784xL66uo",
        "colab_type": "text"
      },
      "source": [
        "**load_mnist** \n",
        "A function to load MNIST data into iPython Notebook\n",
        "\n",
        "**Parameters:**\n",
        "- *filename* : Name of the MNIST '.gz' file with extension\n",
        "- *type* : 'image' or 'label' to specify the type of data\n",
        "- *n_datapoints* : Number of datapoints"
      ]
    },
    {
      "cell_type": "code",
      "metadata": {
        "id": "OOeRHbKG66uq",
        "colab_type": "code",
        "colab": {}
      },
      "source": [
        "import gzip\n",
        "\n",
        "def load_mnist(filename, type, n_datapoints):\n",
        "    # MNIST Images have 28*28 pixels dimension\n",
        "    image_size = 28\n",
        "    f = gzip.open(filename)\n",
        "    \n",
        "    if(type == 'image'):\n",
        "        f.read(16)    # Skip Non-Image information\n",
        "        buf = f.read(n_datapoints * image_size * image_size)\n",
        "        data = np.frombuffer(buf, dtype=np.uint8).astype(np.float32)\n",
        "        data = data.reshape(n_datapoints, image_size, image_size, 1)\n",
        "    elif(type == 'label'):\n",
        "        f.read(8) # Skip Inessential information\n",
        "        buf = f.read(n_datapoints)\n",
        "        data = np.frombuffer(buf, dtype=np.uint8).astype(np.int64)\n",
        "        data = data.reshape(n_datapoints, 1)\n",
        "    return data"
      ],
      "execution_count": 0,
      "outputs": []
    },
    {
      "cell_type": "code",
      "metadata": {
        "id": "j9HIcljV66uy",
        "colab_type": "code",
        "colab": {}
      },
      "source": [
        "# Training Dataset\n",
        "train_size = 60000\n",
        "test_size = 10000\n",
        "dirpath = '/content/drive/My Drive/02 MNIST Digit Recognition/'\n",
        "X = load_mnist(dirpath + 'train-images-idx3-ubyte.gz', 'image', train_size)\n",
        "y = load_mnist(dirpath + 'train-labels-idx1-ubyte.gz', 'label', train_size)\n",
        "X_test = load_mnist(dirpath + 't10k-images-idx3-ubyte.gz', 'image', test_size)\n",
        "y_test = load_mnist(dirpath + 't10k-labels-idx1-ubyte.gz', 'label', test_size)"
      ],
      "execution_count": 0,
      "outputs": []
    },
    {
      "cell_type": "markdown",
      "metadata": {
        "id": "Y1PfMAw066u_",
        "colab_type": "text"
      },
      "source": [
        "To verify whether the data is loaded properly, the image and label are randomly selected and visualized"
      ]
    },
    {
      "cell_type": "code",
      "metadata": {
        "id": "KpiK94TO66vB",
        "colab_type": "code",
        "colab": {
          "base_uri": "https://localhost:8080/",
          "height": 318
        },
        "outputId": "64cc481c-8145-403f-f23a-db110e058c82"
      },
      "source": [
        "import random\n",
        "\n",
        "index = random.randint(0, train_size)\n",
        "print('Index: ', index)\n",
        "print('Training Set: ')\n",
        "print('Label:', y[index])\n",
        "img = np.asarray(X[index]).squeeze()\n",
        "plt.imshow(img)\n",
        "plt.show()"
      ],
      "execution_count": 4,
      "outputs": [
        {
          "output_type": "stream",
          "text": [
            "Index:  48174\n",
            "Training Set: \n",
            "Label: [3]\n"
          ],
          "name": "stdout"
        },
        {
          "output_type": "display_data",
          "data": {
            "image/png": "[encoded data removed]",
            "text/plain": [
              "<Figure size 432x288 with 1 Axes>"
            ]
          },
          "metadata": {
            "tags": [],
            "needs_background": "light"
          }
        }
      ]
    },
    {
      "cell_type": "code",
      "metadata": {
        "id": "eYjVK9dw66vL",
        "colab_type": "code",
        "colab": {
          "base_uri": "https://localhost:8080/",
          "height": 318
        },
        "outputId": "f783a93e-9c58-4fbe-ab93-e663434d196c"
      },
      "source": [
        "index = random.randint(0, test_size)\n",
        "print('Index: ', index)\n",
        "print('Training Set: ')\n",
        "print('Label:', y_test[index])\n",
        "img = np.asarray(X_test[index]).squeeze()\n",
        "plt.imshow(img)\n",
        "plt.show()"
      ],
      "execution_count": 5,
      "outputs": [
        {
          "output_type": "stream",
          "text": [
            "Index:  9830\n",
            "Training Set: \n",
            "Label: [5]\n"
          ],
          "name": "stdout"
        },
        {
          "output_type": "display_data",
          "data": {
            "image/png": "[encoded data removed]",
            "text/plain": [
              "<Figure size 432x288 with 1 Axes>"
            ]
          },
          "metadata": {
            "tags": [],
            "needs_background": "light"
          }
        }
      ]
    },
    {
      "cell_type": "code",
      "metadata": {
        "id": "l70hcEZp66vT",
        "colab_type": "code",
        "colab": {
          "base_uri": "https://localhost:8080/",
          "height": 34
        },
        "outputId": "352066c8-9ad4-4ebe-a8e4-64ef901e1372"
      },
      "source": [
        "from sklearn.model_selection import train_test_split\n",
        "X_train, X_valid, y_train, y_valid = train_test_split(X[:(train_size//10)], y[:(train_size//10)], test_size=0.25, random_state=28)\n",
        "print(X_train.shape, X_valid.shape, y_train.shape, y_valid.shape)"
      ],
      "execution_count": 8,
      "outputs": [
        {
          "output_type": "stream",
          "text": [
            "(4500, 28, 28, 1) (1500, 28, 28, 1) (4500, 1) (1500, 1)\n"
          ],
          "name": "stdout"
        }
      ]
    },
    {
      "cell_type": "markdown",
      "metadata": {
        "id": "at6s9Qod66vd",
        "colab_type": "text"
      },
      "source": [
        "## K-Nearest Neighbors"
      ]
    },
    {
      "cell_type": "markdown",
      "metadata": {
        "id": "hp0Lg0825IG_",
        "colab_type": "text"
      },
      "source": [
        "### Determining Optimal Number of Neighbors\n",
        "\n",
        "To detect optimal value for 'K', lets compare the accuracy of KNN models with different 'K' values. \n",
        "\n",
        "By plotting the values in a graph, we can see the performance visually, and select the best performing 'K' value\n"
      ]
    },
    {
      "cell_type": "code",
      "metadata": {
        "id": "f1TMad-266vg",
        "colab_type": "code",
        "colab": {
          "base_uri": "https://localhost:8080/",
          "height": 1000
        },
        "outputId": "918ef900-719f-4e29-eb98-6bc686b97b40"
      },
      "source": [
        "from sklearn.neighbors import KNeighborsClassifier\n",
        "from sklearn.metrics import confusion_matrix, accuracy_score\n",
        "score = []\n",
        "\n",
        "for k in range(1, 9):\n",
        "  print('Begin KNN with k=',k)\n",
        "  classifier = KNeighborsClassifier(n_neighbors=k)\n",
        "  classifier = classifier.fit(X_train.reshape(X_train.shape[0], 28*28), y_train)\n",
        "  pred = classifier.predict(X_valid.reshape(X_valid.shape[0], 28*28))\n",
        "  accuracy = accuracy_score(y_valid, pred)\n",
        "  score.append(accuracy)\n",
        "  print(\"Accuracy: \",accuracy)\n",
        "  print(\"Confusion Matrix:\\n\", confusion_matrix(y_valid, pred))\n",
        "  print(\"\\n---------------\\n\")"
      ],
      "execution_count": 12,
      "outputs": [
        {
          "output_type": "stream",
          "text": [
            "Begin KNN with k= 1\n"
          ],
          "name": "stdout"
        },
        {
          "output_type": "stream",
          "text": [
            "/usr/local/lib/python3.6/dist-packages/ipykernel_launcher.py:8: DataConversionWarning: A column-vector y was passed when a 1d array was expected. Please change the shape of y to (n_samples, ), for example using ravel().\n",
            "  \n"
          ],
          "name": "stderr"
        },
        {
          "output_type": "stream",
          "text": [
            "Accuracy:  0.9413333333333334\n",
            "Confusion Matrix:\n",
            " [[132   0   0   1   0   0   0   0   0   0]\n",
            " [  0 170   2   0   0   0   0   1   0   1]\n",
            " [  0   4 145   1   0   0   0   2   2   0]\n",
            " [  2   0   2 142   0   3   0   1   1   0]\n",
            " [  0   3   1   0 139   0   3   1   0   7]\n",
            " [  1   2   0   2   2 112   4   0   0   1]\n",
            " [  1   1   0   0   0   1 146   0   0   0]\n",
            " [  0   1   0   1   1   0   0 164   0   3]\n",
            " [  0   3   3   6   0   3   0   0 108   2]\n",
            " [  3   0   0   1   5   0   0   3   0 154]]\n",
            "\n",
            "---------------\n",
            "\n",
            "Begin KNN with k= 2\n"
          ],
          "name": "stdout"
        },
        {
          "output_type": "stream",
          "text": [
            "/usr/local/lib/python3.6/dist-packages/ipykernel_launcher.py:8: DataConversionWarning: A column-vector y was passed when a 1d array was expected. Please change the shape of y to (n_samples, ), for example using ravel().\n",
            "  \n"
          ],
          "name": "stderr"
        },
        {
          "output_type": "stream",
          "text": [
            "Accuracy:  0.9226666666666666\n",
            "Confusion Matrix:\n",
            " [[132   0   0   1   0   0   0   0   0   0]\n",
            " [  0 172   1   0   0   0   0   0   0   1]\n",
            " [  0   7 146   0   0   0   0   1   0   0]\n",
            " [  2   1   3 141   0   2   0   1   1   0]\n",
            " [  1   7   2   0 139   0   2   0   0   3]\n",
            " [  2   2   0   8   3 107   1   0   0   1]\n",
            " [  1   2   0   0   1   1 144   0   0   0]\n",
            " [  0   4   0   2   3   0   0 160   0   1]\n",
            " [  1   3   5   9   1   4   0   0 101   1]\n",
            " [  3   1   0   2   7   0   0  11   0 142]]\n",
            "\n",
            "---------------\n",
            "\n",
            "Begin KNN with k= 3\n"
          ],
          "name": "stdout"
        },
        {
          "output_type": "stream",
          "text": [
            "/usr/local/lib/python3.6/dist-packages/ipykernel_launcher.py:8: DataConversionWarning: A column-vector y was passed when a 1d array was expected. Please change the shape of y to (n_samples, ), for example using ravel().\n",
            "  \n"
          ],
          "name": "stderr"
        },
        {
          "output_type": "stream",
          "text": [
            "Accuracy:  0.9333333333333333\n",
            "Confusion Matrix:\n",
            " [[132   0   0   1   0   0   0   0   0   0]\n",
            " [  0 171   2   0   0   0   0   0   0   1]\n",
            " [  1   7 141   1   0   0   1   3   0   0]\n",
            " [  1   1   1 141   0   3   0   1   2   1]\n",
            " [  0   8   0   0 134   0   4   0   0   8]\n",
            " [  1   2   1   2   2 112   3   0   0   1]\n",
            " [  1   1   0   0   0   0 147   0   0   0]\n",
            " [  0   4   0   0   1   0   0 160   0   5]\n",
            " [  0   3   5   4   1   2   0   0 109   1]\n",
            " [  2   0   0   2   3   0   1   5   0 153]]\n",
            "\n",
            "---------------\n",
            "\n",
            "Begin KNN with k= 4\n"
          ],
          "name": "stdout"
        },
        {
          "output_type": "stream",
          "text": [
            "/usr/local/lib/python3.6/dist-packages/ipykernel_launcher.py:8: DataConversionWarning: A column-vector y was passed when a 1d array was expected. Please change the shape of y to (n_samples, ), for example using ravel().\n",
            "  \n"
          ],
          "name": "stderr"
        },
        {
          "output_type": "stream",
          "text": [
            "Accuracy:  0.9353333333333333\n",
            "Confusion Matrix:\n",
            " [[132   0   0   1   0   0   0   0   0   0]\n",
            " [  0 171   2   0   0   0   0   0   0   1]\n",
            " [  2   6 143   1   0   0   1   1   0   0]\n",
            " [  1   1   1 143   0   2   0   1   1   1]\n",
            " [  0  10   0   0 133   0   4   0   0   7]\n",
            " [  1   2   0   3   1 113   3   0   0   1]\n",
            " [  0   2   0   0   0   1 146   0   0   0]\n",
            " [  0   5   0   0   1   0   0 161   0   3]\n",
            " [  0   3   2   6   0   3   1   0 108   2]\n",
            " [  2   0   0   3   3   0   0   5   0 153]]\n",
            "\n",
            "---------------\n",
            "\n",
            "Begin KNN with k= 5\n"
          ],
          "name": "stdout"
        },
        {
          "output_type": "stream",
          "text": [
            "/usr/local/lib/python3.6/dist-packages/ipykernel_launcher.py:8: DataConversionWarning: A column-vector y was passed when a 1d array was expected. Please change the shape of y to (n_samples, ), for example using ravel().\n",
            "  \n"
          ],
          "name": "stderr"
        },
        {
          "output_type": "stream",
          "text": [
            "Accuracy:  0.9353333333333333\n",
            "Confusion Matrix:\n",
            " [[132   0   0   0   0   0   0   0   1   0]\n",
            " [  0 171   2   0   0   0   0   0   0   1]\n",
            " [  2   6 141   1   0   0   1   2   1   0]\n",
            " [  1   1   1 141   0   4   0   1   1   1]\n",
            " [  0   8   0   0 134   0   4   0   0   8]\n",
            " [  1   3   0   2   1 113   3   0   0   1]\n",
            " [  1   1   0   0   0   0 147   0   0   0]\n",
            " [  0   5   0   0   1   0   0 160   0   4]\n",
            " [  0   3   2   4   0   3   1   1 111   0]\n",
            " [  2   0   1   3   3   0   1   3   0 153]]\n",
            "\n",
            "---------------\n",
            "\n",
            "Begin KNN with k= 6\n"
          ],
          "name": "stdout"
        },
        {
          "output_type": "stream",
          "text": [
            "/usr/local/lib/python3.6/dist-packages/ipykernel_launcher.py:8: DataConversionWarning: A column-vector y was passed when a 1d array was expected. Please change the shape of y to (n_samples, ), for example using ravel().\n",
            "  \n"
          ],
          "name": "stderr"
        },
        {
          "output_type": "stream",
          "text": [
            "Accuracy:  0.928\n",
            "Confusion Matrix:\n",
            " [[132   0   0   0   0   0   0   0   1   0]\n",
            " [  0 171   2   0   0   0   0   0   0   1]\n",
            " [  1  10 137   2   0   0   1   2   1   0]\n",
            " [  1   1   1 141   1   3   0   1   1   1]\n",
            " [  0   8   1   0 134   0   4   0   0   7]\n",
            " [  1   3   0   2   1 115   2   0   0   0]\n",
            " [  1   3   0   0   0   0 145   0   0   0]\n",
            " [  0   5   0   0   1   0   0 160   0   4]\n",
            " [  1   3   3   5   1   3   1   0 107   1]\n",
            " [  3   0   0   4   4   0   0   5   0 150]]\n",
            "\n",
            "---------------\n",
            "\n",
            "Begin KNN with k= 7\n"
          ],
          "name": "stdout"
        },
        {
          "output_type": "stream",
          "text": [
            "/usr/local/lib/python3.6/dist-packages/ipykernel_launcher.py:8: DataConversionWarning: A column-vector y was passed when a 1d array was expected. Please change the shape of y to (n_samples, ), for example using ravel().\n",
            "  \n"
          ],
          "name": "stderr"
        },
        {
          "output_type": "stream",
          "text": [
            "Accuracy:  0.9326666666666666\n",
            "Confusion Matrix:\n",
            " [[132   0   0   0   0   0   0   0   1   0]\n",
            " [  0 171   2   0   0   0   0   0   0   1]\n",
            " [  0   7 140   2   0   0   1   3   1   0]\n",
            " [  1   1   1 142   0   3   0   1   1   1]\n",
            " [  0   9   0   0 133   0   5   0   0   7]\n",
            " [  1   3   0   2   1 115   2   0   0   0]\n",
            " [  1   1   0   0   0   0 147   0   0   0]\n",
            " [  0   4   0   0   1   0   0 162   0   3]\n",
            " [  1   3   3   8   0   3   0   1 105   1]\n",
            " [  2   0   0   4   4   0   0   4   0 152]]\n",
            "\n",
            "---------------\n",
            "\n",
            "Begin KNN with k= 8\n"
          ],
          "name": "stdout"
        },
        {
          "output_type": "stream",
          "text": [
            "/usr/local/lib/python3.6/dist-packages/ipykernel_launcher.py:8: DataConversionWarning: A column-vector y was passed when a 1d array was expected. Please change the shape of y to (n_samples, ), for example using ravel().\n",
            "  \n"
          ],
          "name": "stderr"
        },
        {
          "output_type": "stream",
          "text": [
            "Accuracy:  0.9313333333333333\n",
            "Confusion Matrix:\n",
            " [[132   0   0   0   0   0   0   0   1   0]\n",
            " [  0 171   2   0   0   0   0   0   0   1]\n",
            " [  1   7 139   2   0   0   1   3   1   0]\n",
            " [  1   2   1 140   0   4   0   1   1   1]\n",
            " [  0   8   1   0 133   0   5   0   0   7]\n",
            " [  1   2   0   2   1 116   2   0   0   0]\n",
            " [  1   1   0   0   0   0 147   0   0   0]\n",
            " [  0   4   0   0   1   0   0 163   0   2]\n",
            " [  1   3   3   7   0   5   0   1 103   2]\n",
            " [  2   0   0   4   2   0   1   4   0 153]]\n",
            "\n",
            "---------------\n",
            "\n"
          ],
          "name": "stdout"
        }
      ]
    },
    {
      "cell_type": "code",
      "metadata": {
        "id": "i2UZfKBGwyjI",
        "colab_type": "code",
        "colab": {
          "base_uri": "https://localhost:8080/",
          "height": 295
        },
        "outputId": "d5a238e0-3e96-4466-b31c-ccdaa711b957"
      },
      "source": [
        "plt.plot(range(1,9), score)\n",
        "plt.title('Determining the Optimal Number of Neighbors')\n",
        "plt.xlabel('K - Number of Neighbors')\n",
        "plt.ylabel('Accuracy')\n",
        "plt.show()"
      ],
      "execution_count": 13,
      "outputs": [
        {
          "output_type": "display_data",
          "data": {
            "image/png": "[encoded data removed]",
            "text/plain": [
              "<Figure size 432x288 with 1 Axes>"
            ]
          },
          "metadata": {
            "tags": [],
            "needs_background": "light"
          }
        }
      ]
    },
    {
      "cell_type": "markdown",
      "metadata": {
        "id": "hflz6GWM5FMj",
        "colab_type": "text"
      },
      "source": [
        "Values of K, and performance  \n",
        "- K = 1, accuracy = 94.1\n",
        "- k = 2, accuracy = 92.2\n",
        "- k = 3, accuracy = 93.3\n",
        "- k = 4, accuracy = 93.5\n",
        "- k = 5, accuracy = 93.5\n",
        "- k = 6, accuracy = 92.8\n",
        "- k = 7, accuracy = 93.2\n",
        "- k = 8, accuracy = 93.1\n",
        "\n",
        "Looking at the performance scores, K=1 might seem the most promising model as it has the highest accuracy.\n",
        "\n",
        "But pragmatically, trying to predict a datapoint based on only one neighbor is definitely not a better choice to make. So, it's a wise choice to ignore the option.\n",
        "\n",
        "There is a huge dip in performance for K=2, and a steep increase when the neighbors are increased to 3.\n",
        "\n",
        "The performance curve increases for K=4, and stays same for k=5.\n",
        "\n",
        "It's upto us to choose either 4 or 5 for our requirement."
      ]
    },
    {
      "cell_type": "code",
      "metadata": {
        "id": "8rEmYoR01MDA",
        "colab_type": "code",
        "colab": {
          "base_uri": "https://localhost:8080/",
          "height": 125
        },
        "outputId": "dc52a5b6-1bd1-4858-db56-975905904b44"
      },
      "source": [
        "classifier = KNeighborsClassifier(n_neighbors=5)\n",
        "classifier.fit(X.reshape(X.shape[0], 28*28), y)"
      ],
      "execution_count": 14,
      "outputs": [
        {
          "output_type": "stream",
          "text": [
            "/usr/local/lib/python3.6/dist-packages/ipykernel_launcher.py:2: DataConversionWarning: A column-vector y was passed when a 1d array was expected. Please change the shape of y to (n_samples, ), for example using ravel().\n",
            "  \n"
          ],
          "name": "stderr"
        },
        {
          "output_type": "execute_result",
          "data": {
            "text/plain": [
              "KNeighborsClassifier(algorithm='auto', leaf_size=30, metric='minkowski',\n",
              "                     metric_params=None, n_jobs=None, n_neighbors=5, p=2,\n",
              "                     weights='uniform')"
            ]
          },
          "metadata": {
            "tags": []
          },
          "execution_count": 14
        }
      ]
    },
    {
      "cell_type": "markdown",
      "metadata": {
        "id": "XMs0rvbNwmV6",
        "colab_type": "text"
      },
      "source": [
        "## Testing the Model"
      ]
    },
    {
      "cell_type": "code",
      "metadata": {
        "id": "Ex8t-WDO66wI",
        "colab_type": "code",
        "colab": {
          "base_uri": "https://localhost:8080/",
          "height": 52
        },
        "outputId": "97d207d3-1b61-4568-ada8-09822953e51f"
      },
      "source": [
        "%%time\n",
        "y_pred = classifier.predict(X_test.reshape(X_test.shape[0], 28*28))"
      ],
      "execution_count": 15,
      "outputs": [
        {
          "output_type": "stream",
          "text": [
            "CPU times: user 16min 7s, sys: 142 ms, total: 16min 7s\n",
            "Wall time: 16min 8s\n"
          ],
          "name": "stdout"
        }
      ]
    },
    {
      "cell_type": "code",
      "metadata": {
        "id": "GqxMZtWa66wR",
        "colab_type": "code",
        "colab": {
          "base_uri": "https://localhost:8080/",
          "height": 210
        },
        "outputId": "2897cc5d-944f-42cc-a77b-2ad6d05da175"
      },
      "source": [
        "print(confusion_matrix(y_test, y_pred))\n",
        "print(accuracy_score(y_test, y_pred))"
      ],
      "execution_count": 16,
      "outputs": [
        {
          "output_type": "stream",
          "text": [
            "[[ 974    1    1    0    0    1    2    1    0    0]\n",
            " [   0 1133    2    0    0    0    0    0    0    0]\n",
            " [  11    8  991    2    1    0    1   15    3    0]\n",
            " [   0    3    3  976    1   13    1    6    3    4]\n",
            " [   3    7    0    0  944    0    4    2    1   21]\n",
            " [   5    0    0   12    2  862    4    1    2    4]\n",
            " [   5    3    0    0    3    2  945    0    0    0]\n",
            " [   0   22    4    0    3    0    0  988    0   11]\n",
            " [   8    3    5   13    6   12    5    5  913    4]\n",
            " [   5    7    3    9    7    3    1   10    2  962]]\n",
            "0.9688\n"
          ],
          "name": "stdout"
        }
      ]
    },
    {
      "cell_type": "code",
      "metadata": {
        "id": "lqIrHVGW2B6o",
        "colab_type": "code",
        "colab": {
          "base_uri": "https://localhost:8080/",
          "height": 316
        },
        "outputId": "cb77e619-288b-4a9b-de5c-8f9d8771c690"
      },
      "source": [
        "from sklearn.metrics import classification_report\n",
        "\n",
        "print(classification_report(y_pred, y_test))"
      ],
      "execution_count": 18,
      "outputs": [
        {
          "output_type": "stream",
          "text": [
            "              precision    recall  f1-score   support\n",
            "\n",
            "           0       0.99      0.96      0.98      1011\n",
            "           1       1.00      0.95      0.98      1187\n",
            "           2       0.96      0.98      0.97      1009\n",
            "           3       0.97      0.96      0.97      1012\n",
            "           4       0.96      0.98      0.97       967\n",
            "           5       0.97      0.97      0.97       893\n",
            "           6       0.99      0.98      0.98       963\n",
            "           7       0.96      0.96      0.96      1028\n",
            "           8       0.94      0.99      0.96       924\n",
            "           9       0.95      0.96      0.95      1006\n",
            "\n",
            "    accuracy                           0.97     10000\n",
            "   macro avg       0.97      0.97      0.97     10000\n",
            "weighted avg       0.97      0.97      0.97     10000\n",
            "\n"
          ],
          "name": "stdout"
        }
      ]
    },
    {
      "cell_type": "markdown",
      "metadata": {
        "id": "NNvY7Q3c9HHj",
        "colab_type": "text"
      },
      "source": [
        "## Results\n",
        "\n",
        "KNN Model with 5 neighbors performed really well with 96.88% accuracy.\n",
        "\n"
      ]
    }
  ]
}