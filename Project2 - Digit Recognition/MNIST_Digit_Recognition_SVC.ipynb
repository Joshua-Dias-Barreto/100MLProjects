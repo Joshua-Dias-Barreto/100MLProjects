{
  "nbformat": 4,
  "nbformat_minor": 0,
  "metadata": {
    "colab": {
      "name": "MNIST Digit Recognition SVC.ipynb",
      "provenance": [],
      "collapsed_sections": [],
      "mount_file_id": "1HEtOuz5s-TuYNAK-F53pcULo6GcJYeuj",
      "authorship_tag": "ABX9TyPAqm1TLg46tp9I+mcKTW6D"
    },
    "kernelspec": {
      "name": "python3",
      "display_name": "Python 3"
    }
  },
  "cells": [
    {
      "cell_type": "markdown",
      "metadata": {
        "id": "LJ5m9xJJaS1s",
        "colab_type": "text"
      },
      "source": [
        "# Challenge2 - MNIST Handwritten Digit Recognition | #100MLProjects | #Laxmena\n",
        "\n",
        "100MLProjects Pre Project Update: [Blog: Challenge-2 MNIST Digit Recognition](https://medium.com/@laxmena/project2-of-100mlprojetcs-classification-mnist-digit-recognition-d9208856f1f2)\n",
        "\n",
        "- LinkedIn: https://www.linkedin.com/in/lakshmanan-meiyappan/\n",
        "- Github: https://github.com/laxmena/\n"
      ]
    },
    {
      "cell_type": "markdown",
      "metadata": {
        "id": "AAK8AQ6KanUF",
        "colab_type": "text"
      },
      "source": [
        "## SVM Classifier\n"
      ]
    },
    {
      "cell_type": "code",
      "metadata": {
        "id": "jrP36pD4MEFo",
        "colab_type": "code",
        "colab": {}
      },
      "source": [
        "\n",
        "import numpy as np\n",
        "import pandas as pd\n",
        "import matplotlib.pyplot as plt\n",
        "from sklearn.svm import SVC\n",
        "from sklearn.metrics import confusion_matrix, accuracy_score\n",
        "from sklearn.metrics import classification_report\n",
        "import pickle \n",
        "import gzip\n",
        "import random"
      ],
      "execution_count": null,
      "outputs": []
    },
    {
      "cell_type": "markdown",
      "metadata": {
        "id": "rjoD22ROaqYH",
        "colab_type": "text"
      },
      "source": [
        "## Loading the Dataset\n",
        "\n",
        "MNIST Handwritten Digits dataset is a de facto 'Hello World!' dataset, so many libraries comes with preloaded dataset. \n",
        "\n",
        "But I have written a Custom method to load from actual compressed dataset, to understand what is happening behind the scenes."
      ]
    },
    {
      "cell_type": "code",
      "metadata": {
        "id": "464YKpvVMKcz",
        "colab_type": "code",
        "colab": {}
      },
      "source": [
        "def load_mnist(filename, type, n_datapoints):\n",
        "    # MNIST Images have 28*28 pixels dimension\n",
        "    image_size = 28\n",
        "    f = gzip.open(filename)\n",
        "    \n",
        "    if(type == 'image'):\n",
        "        f.read(16)    # Skip Non-Image information\n",
        "        buf = f.read(n_datapoints * image_size * image_size)\n",
        "        data = np.frombuffer(buf, dtype=np.uint8).astype(np.float32)\n",
        "        data = data.reshape(n_datapoints, image_size*image_size)\n",
        "    elif(type == 'label'):\n",
        "        f.read(8) # Skip Inessential information\n",
        "        buf = f.read(n_datapoints)\n",
        "        data = np.frombuffer(buf, dtype=np.uint8).astype(np.int64)\n",
        "        data = data.reshape(n_datapoints, 1)\n",
        "    return data"
      ],
      "execution_count": null,
      "outputs": []
    },
    {
      "cell_type": "markdown",
      "metadata": {
        "id": "_uPJdjkvbVlE",
        "colab_type": "text"
      },
      "source": [
        "Training Set comprises of 60K images and labels.\n",
        "Test set comprises of 10K images and labels."
      ]
    },
    {
      "cell_type": "code",
      "metadata": {
        "id": "0dpkr2rkMV5H",
        "colab_type": "code",
        "colab": {}
      },
      "source": [
        "# Training Dataset\n",
        "train_size = 60000\n",
        "test_size = 10000\n",
        "dirpath = '/content/drive/My Drive/02 MNIST Digit Recognition/'\n",
        "X = load_mnist(dirpath + 'train-images-idx3-ubyte.gz', 'image', train_size)\n",
        "y = load_mnist(dirpath + 'train-labels-idx1-ubyte.gz', 'label', train_size)\n",
        "X_test = load_mnist(dirpath + 't10k-images-idx3-ubyte.gz', 'image', test_size)\n",
        "y_test = load_mnist(dirpath + 't10k-labels-idx1-ubyte.gz', 'label', test_size)"
      ],
      "execution_count": null,
      "outputs": []
    },
    {
      "cell_type": "markdown",
      "metadata": {
        "id": "c63vS9lpbcq4",
        "colab_type": "text"
      },
      "source": [
        "## Build Classifier\n",
        "\n",
        "sklearn(scikit learn) is a Machine Learning library that contains most of the popular Machine Learning Models implementations.\n",
        "\n",
        "Creating and training a SVM Classifier."
      ]
    },
    {
      "cell_type": "code",
      "metadata": {
        "id": "AOoKVglRMdCT",
        "colab_type": "code",
        "colab": {}
      },
      "source": [
        "classifier = SVC()"
      ],
      "execution_count": null,
      "outputs": []
    },
    {
      "cell_type": "code",
      "metadata": {
        "id": "8gegA9dDMh-2",
        "colab_type": "code",
        "colab": {
          "base_uri": "https://localhost:8080/",
          "height": 142
        },
        "outputId": "113b8467-1e12-4e2a-c148-086fb25836e2"
      },
      "source": [
        "classifier.fit(X, y)\n",
        "# classifier.fit(X.reshape(X.shape[0], 28*28), y)"
      ],
      "execution_count": null,
      "outputs": [
        {
          "output_type": "stream",
          "text": [
            "/usr/local/lib/python3.6/dist-packages/sklearn/utils/validation.py:760: DataConversionWarning: A column-vector y was passed when a 1d array was expected. Please change the shape of y to (n_samples, ), for example using ravel().\n",
            "  y = column_or_1d(y, warn=True)\n"
          ],
          "name": "stderr"
        },
        {
          "output_type": "execute_result",
          "data": {
            "text/plain": [
              "SVC(C=1.0, break_ties=False, cache_size=200, class_weight=None, coef0=0.0,\n",
              "    decision_function_shape='ovr', degree=3, gamma='scale', kernel='rbf',\n",
              "    max_iter=-1, probability=False, random_state=None, shrinking=True,\n",
              "    tol=0.001, verbose=False)"
            ]
          },
          "metadata": {
            "tags": []
          },
          "execution_count": 8
        }
      ]
    },
    {
      "cell_type": "code",
      "metadata": {
        "id": "m9sXatwTMjOw",
        "colab_type": "code",
        "colab": {
          "base_uri": "https://localhost:8080/",
          "height": 34
        },
        "outputId": "a1c86b20-5d22-40e5-eeb7-2b4c330598e2"
      },
      "source": [
        "classifier.score(X_test, y_test)\n",
        "# classifier.score(X_test.reshape(X_test.shape[0], 28*28), y_test)"
      ],
      "execution_count": null,
      "outputs": [
        {
          "output_type": "execute_result",
          "data": {
            "text/plain": [
              "0.9792"
            ]
          },
          "metadata": {
            "tags": []
          },
          "execution_count": 9
        }
      ]
    },
    {
      "cell_type": "markdown",
      "metadata": {
        "id": "R2KNG9MQQnkt",
        "colab_type": "text"
      },
      "source": [
        "Accuracy of the classifier is 97.92%"
      ]
    },
    {
      "cell_type": "markdown",
      "metadata": {
        "id": "2YMCmGwfcb0G",
        "colab_type": "text"
      },
      "source": [
        "## Saving the Model\n",
        "\n",
        "The trained SVC Model is saved, so that the model can be reconstructed and used in different python modules or applications."
      ]
    },
    {
      "cell_type": "markdown",
      "metadata": {
        "id": "EY3bjkCOdAHZ",
        "colab_type": "text"
      },
      "source": [
        "Joblib is a library, that allows us to save a copy of runtime data in a file, and load it back whenever we need it.\n",
        "\n",
        "- joblib.dump - Save the runtime data in a file\n",
        "- joblib.load - Load the saved data from file to the runtime\n",
        "\n",
        "Other option is to use pickle. But using pickle can result in very large file size. KNN model trained on 60K MNIST 28*28 images can be around 420MB.\n",
        "\n",
        "Joblib offers compression. The same KNN model can weigh only 4MB if saved using compression enabled joblib."
      ]
    },
    {
      "cell_type": "code",
      "metadata": {
        "id": "w3eS6AMCMzHO",
        "colab_type": "code",
        "colab": {}
      },
      "source": [
        "t joblib"
      ],
      "execution_count": null,
      "outputs": []
    },
    {
      "cell_type": "code",
      "metadata": {
        "id": "Juhs03UJOhk1",
        "colab_type": "code",
        "colab": {
          "base_uri": "https://localhost:8080/",
          "height": 34
        },
        "outputId": "8f90b773-a9e1-40b8-e22e-d09376910f01"
      },
      "source": [
        "joblib.dump(classifier,'svc_mnist_60k.gz',compress=('gzip',3))"
      ],
      "execution_count": null,
      "outputs": [
        {
          "output_type": "execute_result",
          "data": {
            "text/plain": [
              "['svc_mnist_60k.gz']"
            ]
          },
          "metadata": {
            "tags": []
          },
          "execution_count": 12
        }
      ]
    },
    {
      "cell_type": "code",
      "metadata": {
        "id": "SXVl4UWMOpcO",
        "colab_type": "code",
        "colab": {}
      },
      "source": [
        ""
      ],
      "execution_count": null,
      "outputs": []
    }
  ]
}